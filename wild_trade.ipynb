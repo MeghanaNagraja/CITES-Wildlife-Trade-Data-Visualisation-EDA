{
 "cells": [
  {
   "cell_type": "code",
   "execution_count": 2,
   "metadata": {},
   "outputs": [],
   "source": [
    "import mysql.connector\n",
    "import glob\n",
    "import pandas as pd\n",
    "import numpy as np\n",
    "from matplotlib import pyplot as plt\n",
    "from matplotlib import figure\n",
    "from matplotlib.ticker import FuncFormatter\n",
    "import plotly.express as px\n",
    "import plotly.graph_objects as go\n",
    "import squarify"
   ]
  },
  {
   "cell_type": "code",
   "execution_count": 3,
   "metadata": {},
   "outputs": [],
   "source": [
    "# Connecting to MySQL\n",
    "connection = mysql.connector.connect(host = 'localhost', password = '----', user = 'root', database = 'wild')\n",
    "wlcursor = connection.cursor()"
   ]
  },
  {
   "cell_type": "code",
   "execution_count": null,
   "metadata": {},
   "outputs": [],
   "source": [
    "# Importing datasets\n",
    "data_path = \"C:/Trade_database_download_v2023.1/\"\n",
    "file_list = glob.glob(data_path + \"/*.csv\")\n",
    "df_list = (pd.read_csv(file, low_memory=False) for file in file_list)\n",
    "wild_df_wip1 = pd.concat(df_list, ignore_index=True)\n",
    "\n",
    "# Dropping unnecessary columns\n",
    "wild_df_wip2 = wild_df_wip1.drop(['Id','Reporter.type','Import.permit.RandomID','Export.permit.RandomID','Origin.permit.RandomID'], axis=1)\n",
    "\n",
    "# Seperating only fauna (animal) records\n",
    "wild_df_wip3 = wild_df_wip2.loc[(wild_df_wip2['Class'].notna()) | ((wild_df_wip2['Class'].isna()) & (wild_df_wip2['Order'].isna()))]\n",
    "wild_df_wip3.drop(wild_df_wip3[wild_df_wip3.Taxon == 'Plantae'].index, inplace=True)\n",
    "\n",
    "# Collecting records from year to year if needed\n",
    "# wild_df_wip3.drop(wild_df_wip3[wild_df_wip3.Year < year].index, inplace=True)\n",
    "\n",
    "# Sorting records\n",
    "wild_df = wild_df_wip3.sort_values(by=['Year','Taxon','Class'])\n",
    "wild_df = wild_df.reset_index(drop=True)\n",
    "\n",
    "# Data check\n",
    "wild_df.isnull().sum()\n",
    "wild_df.dtypes\n",
    "\n",
    "# Filling empty values\n",
    "wild_df['Class']=wild_df['Class'].fillna('unknown')\n",
    "wild_df['Order']=wild_df['Order'].fillna('unknown')\n",
    "wild_df['Family']=wild_df['Family'].fillna('unknown')\n",
    "wild_df['Genus']=wild_df['Genus'].fillna('unknown')\n",
    "wild_df['Unit']=wild_df['Unit'].fillna('units')\n",
    "wild_df['Importer']=wild_df['Importer'].fillna('XX')\n",
    "wild_df['Exporter']=wild_df['Exporter'].fillna('XX')\n",
    "wild_df['Purpose']=wild_df['Purpose'].fillna('unknown')\n",
    "wild_df['Source']=wild_df['Source'].fillna('unknown')\n",
    "wild_df_1 = wild_df.ffill(axis=1)\n",
    "\n",
    "# Mapping codes of countries, purpose and source\n",
    "cc = pd.read_csv('cc.csv', encoding=\"utf-8\")\n",
    "ctry_dict = {}\n",
    "for ind in cc.index:\n",
    "    ctry_dict[(cc['code'][ind])] = (cc['country'][ind])\n",
    "\n",
    "# Check en-CITES_Trade_Database_Guide.pdf for explanation\n",
    "prps_dict = {'B':'Breeding in captivity or artificial propagation',\n",
    "            'E':'Educational',\n",
    "            'G':'Botanical garden',\n",
    "            'H':'Hunting trophy',\n",
    "            'L':'Law enforcement/judicial/forensic',\n",
    "            'M':'Medical',\n",
    "            'N':'Reintroduction or introduction into the wild',\n",
    "            'P':'Personal',\n",
    "            'Q':'Circus or travelling exhibition',\n",
    "            'S':'Scientific',\n",
    "            'T':'Commercial',\n",
    "            'Z':'Zoo',\n",
    "            'unknown':'unknown'}\n",
    "\n",
    "source_dict = {'A':'Plants that are artificially propagated',\n",
    "               'C':'Animals bred in captivity',\n",
    "               'D':'animals bred in captivity for commercial purposes',\n",
    "               'F':'Animals born in captivity',\n",
    "               'I':'Confiscated or seized specimens',\n",
    "               'O':'Pre-Convention specimens',\n",
    "               'R':'Ranched specimens',\n",
    "               'U':'Source unknown',\n",
    "               'W':'Specimens taken from the wild',\n",
    "               'X':'Specimens taken in the marine environment',\n",
    "               'Y':'Specimens of plants of assisted production',\n",
    "               'unknown':'unknown'}\n",
    "\n",
    "wild_df_1['Origin']=wild_df_1['Origin'].map(ctry_dict)\n",
    "wild_df_1['Exporter']=wild_df_1['Exporter'].map(ctry_dict)\n",
    "wild_df_1['Importer']=wild_df_1['Importer'].map(ctry_dict)\n",
    "wild_df_1['Purpose']=wild_df_1['Purpose'].map(prps_dict)\n",
    "wild_df_1['Source']=wild_df_1['Source'].map(source_dict)\n",
    "\n",
    "# Unit conversions\n",
    "wild_df_1['Quantity'] = np.where(wild_df_1['Unit'] == 'g', wild_df_1['Quantity'] * 0.001, wild_df_1['Quantity'])\n",
    "wild_df_1['Quantity'] = np.where(wild_df_1['Unit'] == 'microgrammes', wild_df_1['Quantity'] * 0.000000001, wild_df_1['Quantity'])\n",
    "wild_df_1['Quantity'] = np.where(wild_df_1['Unit'] == 'mg', wild_df_1['Quantity'] * 0.000001, wild_df_1['Quantity'])\n",
    "wild_df_1['Quantity'] = np.where(wild_df_1['Unit'] == 'cm3', wild_df_1['Quantity'] * 0.000001, wild_df_1['Quantity'])\n",
    "wild_df_1['Quantity'] = np.where(wild_df_1['Unit'] == 'ml', wild_df_1['Quantity'] * 0.001, wild_df_1['Quantity'])\n",
    "wild_df_1['Quantity'] = np.where(wild_df_1['Unit'] == 'cm', wild_df_1['Quantity'] * 0.01, wild_df_1['Quantity'])\n",
    "wild_df_1['Quantity'] = np.where(wild_df_1['Unit'] == 'cm2', wild_df_1['Quantity'] * 0.0001, wild_df_1['Quantity'])\n",
    "\n",
    "unit_dict = {'units':'units','g':'kg','cm3':'m3','kg':'kg','microgrammes':'kg',\n",
    "             'mg':'kg','l':'l','ml':'l','cm':'m','cm2':'m2','m3':'m3','m2':'m2',\n",
    "             'm':'m','Number of specimens':'Number of specimens'}\n",
    "\n",
    "wild_df_1['Unit']=wild_df_1['Unit'].map(unit_dict)\n",
    "\n",
    "# Grouping and aggregating records - millions of records aggregated to lakhs\n",
    "wdf = wild_df_1.groupby(['Year','Appendix','Taxon','Class','Order','Family','Genus','Term','Unit',\n",
    "                         'Importer','Exporter','Origin','Purpose','Source']).agg({'Quantity':'sum'}).reset_index()\n",
    "\n",
    "# Saving as csv file\n",
    "wdf.to_csv('wild_data.csv',index=False)\n",
    "\n",
    "# Uploading records to SQL\n",
    "wdf_sql = pd.read_csv('wild_all.csv')\n",
    "wdf_sql['Indexs'] = wdf_sql.index+1\n",
    "\n",
    "wlcursor.execute('''CREATE TABLE IF NOT EXISTS wild(\n",
    "    Year INT,Appendix VARCHAR(255),Taxon VARCHAR(255),Class VARCHAR(255),Orders VARCHAR(255),\n",
    "    Family VARCHAR(255),Genus VARCHAR(255),Term VARCHAR(255),Unit VARCHAR(255),Importer VARCHAR(255),\n",
    "    Exporter VARCHAR(255),Origin VARCHAR(255),Purpose TEXT,Source TEXT,Quantity DOUBLE,Indexs INT)''')\n",
    "connection.commit()\n",
    "for index, row in wdf_sql.iterrows():\n",
    "    wl_query = '''INSERT INTO wild(Year,Appendix,Taxon,Class,Orders,Family,Genus,Term,Unit,\n",
    "    Importer,Exporter,Origin,Purpose,Source,Quantity,Indexs)\n",
    "    VALUES(%s,%s,%s,%s,%s,%s,%s,%s,%s,%s,%s,%s,%s,%s,%s,%s)'''\n",
    "    wl_val=(row['Year'],row['Appendix'],row['Taxon'],row['Class'],row['Order'],\n",
    "            row['Family'],row['Genus'],row['Term'],row['Unit'],row['Importer'],\n",
    "            row['Exporter'],row['Origin'],row['Purpose'],row['Source'],row['Quantity'],row['Indexs'])\n",
    "    wlcursor.execute(wl_query,wl_val)\n",
    "    connection.commit()"
   ]
  },
  {
   "cell_type": "code",
   "execution_count": 93,
   "metadata": {},
   "outputs": [
    {
     "data": {
      "image/png": "[encoded data removed]",
      "text/plain": [
       "<Figure size 1800x500 with 1 Axes>"
      ]
     },
     "metadata": {},
     "output_type": "display_data"
    },
    {
     "data": {
      "image/png": "[encoded data removed]",
      "text/plain": [
       "<Figure size 2000x500 with 2 Axes>"
      ]
     },
     "metadata": {},
     "output_type": "display_data"
    },
    {
     "data": {
      "application/vnd.plotly.v1+json": {
       "config": {
        "plotlyServerURL": "https://plot.ly"
       },
       "data": [
        {
         "coloraxis": "coloraxis",
         "geo": "geo",
         "hovertemplate": "<b>%{hovertext}</b><br><br>Importer=%{location}<br>Volume=%{z}<extra></extra>",
         "hovertext": [
          "Switzerland",
          "Unknown",
          "United States",
          "Sweden",
          "United Kingdom",
          "Canada",
          "Congo, The Democratic Republic of ",
          "Germany",
          "Bermuda",
          "Japan",
          "Belgium",
          "United Arab Emirates",
          "Austria",
          "France",
          "Hong Kong",
          "Italy",
          "Spain",
          "Thailand",
          "Netherlands",
          "South Africa",
          "Paraguay",
          "China",
          "Portugal",
          "Australia",
          "Oman",
          "German Democratic Republic",
          "India",
          "Iran, Islamic Republic of",
          "Turkey",
          "Israel",
          "Saudi Arabia",
          "Sierra Leone",
          "Yugoslavia",
          "Denmark",
          "Zambia",
          "Brazil",
          "Mexico",
          "Croatia",
          "Colombia",
          "Greece",
          "Finland",
          "Hungary",
          "Russia Federation",
          "Egypt",
          "New Zealand",
          "Singapore",
          "Nigeria",
          "Argentina",
          "Norway",
          "Morocco",
          "Ireland",
          "Gabon",
          "Kuwait",
          "Madagascar",
          "Fiji",
          "Bahrain",
          "Tunisia",
          "Reunion",
          "Kenya",
          "Poland",
          "Venezuela",
          "Trinidad and Tobago",
          "Romania",
          "Indonesia",
          "Cuba",
          "Liechtenstein",
          "Papua New Guinea",
          "Sri Lanka",
          "Luxembourg",
          "Botswana",
          "Lebanon",
          "Liberia",
          "Syrian Arab Republic",
          "Dominican Republic",
          "Costa Rica",
          "Malta",
          "Netherlands Antilles",
          "Zimbabwe",
          "Jordan",
          "Gambia",
          "Taiwan, Province of China",
          "Senegal",
          "Malawi",
          "Bahamas",
          "Korea, Republic of",
          "Cayman Islands",
          "Malaysia",
          "Monaco",
          "Guam",
          "Bulgaria",
          "Iceland",
          "New Caledonia",
          "El Salvador",
          "Philippines",
          "Qatar",
          "Andorra",
          "Uruguay",
          "Faroe Islands",
          "Pakistan",
          "Haiti",
          "Vanuatu",
          "Cote d'Ivoire",
          "Korea, Democratic People's Republic of",
          "Chile",
          "Guatemala",
          "Panama",
          "Uganda",
          "Yemen",
          "Peru",
          "Puerto Rico",
          "Djibouti",
          "Libyan Arab Jamahiriya",
          "Seychelles",
          "Benin",
          "Cyprus",
          "Gibraltar",
          "Sudan",
          "Swaziland",
          "French Polynesia",
          "Mauritius",
          "Togo",
          "Myanmar",
          "Honduras",
          "Jamaica",
          "Pacific Islands",
          "Albania",
          "Cameroon",
          "Greenland",
          "Guadeloupe",
          "Burkina Faso",
          "Tanzania, United Republic of",
          "Bolivia",
          "Iraq",
          "Antigua and Barbuda",
          "Barbados",
          "Belize",
          "Mali",
          "Maldives",
          "Nepal",
          "Ecuador",
          "Bangladesh",
          "Dominica",
          "Nicaragua",
          "Kiribati",
          "Virgin Islands, British",
          "French Guiana",
          "Mozambique",
          "Ghana",
          "Macao",
          "Niger",
          "Algeria",
          "Martinique",
          "Virgin Islands, U.S.",
          "Wallis and Futuna",
          "Mongolia",
          "Rwanda",
          "Ethiopia",
          "Guyana",
          "Suriname",
          "Brunei Darussalam",
          "Grenada",
          "Burundi",
          "Chad",
          "Guinea",
          "Lao, People's Democratic Republic",
          "Saint Lucia",
          "Congo",
          "Lesotho",
          "Somalia",
          "San Marino",
          "Nauru",
          "Samoa",
          "Saint Kitts & Nevis",
          "Afghanistan",
          "Heard and Mc Donald Islands",
          "Mauritania",
          "Ukraine",
          "American Samoa",
          "Saint Helena",
          "Vietnam",
          "Solomon Islands",
          "Bhutan",
          "Central African Republic",
          "Western Sahara",
          "Holy See (Vatican City State)",
          "Cook Islands",
          "Comoros",
          "Aruba",
          "Pitcairn",
          "Saint Pierre and Miquelon",
          "Anguilla",
          "Niue",
          "Norfolk Island",
          "Sao Tome and Principe",
          "Turks and Caicos Islands",
          "Angola",
          "United States Minor Outlying Islands",
          "Falkland Islands (Malvinas)",
          "Saint Vincent and the Grenadines",
          "Cape Verde",
          "British Indian Ocean Territory",
          "Tokelau",
          "Christmas Island",
          "Guinea-Bissau",
          "Tonga",
          "Slovenia",
          "Slovakia",
          "Latvia",
          "Czechia",
          "Micronesia, Federated States of",
          "Tajikistan",
          "Northern Mariana Islands",
          "Georgia",
          "Estonia",
          "Lithuania",
          "Moldova, Republic of",
          "Eritrea",
          "Svalbard and Jan Mayen",
          "Uzbekistan",
          "Kazakstan",
          "Belarus",
          "Palau",
          "Armenia",
          "Macedonia, The Former Yugoslav Republic Of",
          "Azerbaijan",
          "Cambodia",
          "Kyrgyzstan",
          "Palestinian Territory, Occupied",
          "Turkmenistan",
          "Montserrat",
          "Bosnia and Herzegovina",
          "Cocos (Keeling) Islands",
          "Jersey",
          "Guernsey",
          "Isle of Man",
          "Mayotte",
          "French Southern Territories",
          "Saint Martin",
          "Serbia and Montenegro",
          "Equatorial Guinea",
          "Marshall Islands",
          "Timor-Leste",
          "Antarctica",
          "Republic of Serbia",
          "Montenegro",
          "Kosovo",
          "Curaçao",
          "Bonaire, Sint Eustatius and Saba",
          "Saint Barthélemy",
          "Sint Maarten",
          "Bouvet Island",
          "Tuvalu",
          "South Sudan",
          "Namibia"
         ],
         "locationmode": "country names",
         "locations": [
          "Switzerland",
          "Unknown",
          "United States",
          "Sweden",
          "United Kingdom",
          "Canada",
          "Congo, The Democratic Republic of ",
          "Germany",
          "Bermuda",
          "Japan",
          "Belgium",
          "United Arab Emirates",
          "Austria",
          "France",
          "Hong Kong",
          "Italy",
          "Spain",
          "Thailand",
          "Netherlands",
          "South Africa",
          "Paraguay",
          "China",
          "Portugal",
          "Australia",
          "Oman",
          "German Democratic Republic",
          "India",
          "Iran, Islamic Republic of",
          "Turkey",
          "Israel",
          "Saudi Arabia",
          "Sierra Leone",
          "Yugoslavia",
          "Denmark",
          "Zambia",
          "Brazil",
          "Mexico",
          "Croatia",
          "Colombia",
          "Greece",
          "Finland",
          "Hungary",
          "Russia Federation",
          "Egypt",
          "New Zealand",
          "Singapore",
          "Nigeria",
          "Argentina",
          "Norway",
          "Morocco",
          "Ireland",
          "Gabon",
          "Kuwait",
          "Madagascar",
          "Fiji",
          "Bahrain",
          "Tunisia",
          "Reunion",
          "Kenya",
          "Poland",
          "Venezuela",
          "Trinidad and Tobago",
          "Romania",
          "Indonesia",
          "Cuba",
          "Liechtenstein",
          "Papua New Guinea",
          "Sri Lanka",
          "Luxembourg",
          "Botswana",
          "Lebanon",
          "Liberia",
          "Syrian Arab Republic",
          "Dominican Republic",
          "Costa Rica",
          "Malta",
          "Netherlands Antilles",
          "Zimbabwe",
          "Jordan",
          "Gambia",
          "Taiwan, Province of China",
          "Senegal",
          "Malawi",
          "Bahamas",
          "Korea, Republic of",
          "Cayman Islands",
          "Malaysia",
          "Monaco",
          "Guam",
          "Bulgaria",
          "Iceland",
          "New Caledonia",
          "El Salvador",
          "Philippines",
          "Qatar",
          "Andorra",
          "Uruguay",
          "Faroe Islands",
          "Pakistan",
          "Haiti",
          "Vanuatu",
          "Cote d'Ivoire",
          "Korea, Democratic People's Republic of",
          "Chile",
          "Guatemala",
          "Panama",
          "Uganda",
          "Yemen",
          "Peru",
          "Puerto Rico",
          "Djibouti",
          "Libyan Arab Jamahiriya",
          "Seychelles",
          "Benin",
          "Cyprus",
          "Gibraltar",
          "Sudan",
          "Swaziland",
          "French Polynesia",
          "Mauritius",
          "Togo",
          "Myanmar",
          "Honduras",
          "Jamaica",
          "Pacific Islands",
          "Albania",
          "Cameroon",
          "Greenland",
          "Guadeloupe",
          "Burkina Faso",
          "Tanzania, United Republic of",
          "Bolivia",
          "Iraq",
          "Antigua and Barbuda",
          "Barbados",
          "Belize",
          "Mali",
          "Maldives",
          "Nepal",
          "Ecuador",
          "Bangladesh",
          "Dominica",
          "Nicaragua",
          "Kiribati",
          "Virgin Islands, British",
          "French Guiana",
          "Mozambique",
          "Ghana",
          "Macao",
          "Niger",
          "Algeria",
          "Martinique",
          "Virgin Islands, U.S.",
          "Wallis and Futuna",
          "Mongolia",
          "Rwanda",
          "Ethiopia",
          "Guyana",
          "Suriname",
          "Brunei Darussalam",
          "Grenada",
          "Burundi",
          "Chad",
          "Guinea",
          "Lao, People's Democratic Republic",
          "Saint Lucia",
          "Congo",
          "Lesotho",
          "Somalia",
          "San Marino",
          "Nauru",
          "Samoa",
          "Saint Kitts & Nevis",
          "Afghanistan",
          "Heard and Mc Donald Islands",
          "Mauritania",
          "Ukraine",
          "American Samoa",
          "Saint Helena",
          "Vietnam",
          "Solomon Islands",
          "Bhutan",
          "Central African Republic",
          "Western Sahara",
          "Holy See (Vatican City State)",
          "Cook Islands",
          "Comoros",
          "Aruba",
          "Pitcairn",
          "Saint Pierre and Miquelon",
          "Anguilla",
          "Niue",
          "Norfolk Island",
          "Sao Tome and Principe",
          "Turks and Caicos Islands",
          "Angola",
          "United States Minor Outlying Islands",
          "Falkland Islands (Malvinas)",
          "Saint Vincent and the Grenadines",
          "Cape Verde",
          "British Indian Ocean Territory",
          "Tokelau",
          "Christmas Island",
          "Guinea-Bissau",
          "Tonga",
          "Slovenia",
          "Slovakia",
          "Latvia",
          "Czechia",
          "Micronesia, Federated States of",
          "Tajikistan",
          "Northern Mariana Islands",
          "Georgia",
          "Estonia",
          "Lithuania",
          "Moldova, Republic of",
          "Eritrea",
          "Svalbard and Jan Mayen",
          "Uzbekistan",
          "Kazakstan",
          "Belarus",
          "Palau",
          "Armenia",
          "Macedonia, The Former Yugoslav Republic Of",
          "Azerbaijan",
          "Cambodia",
          "Kyrgyzstan",
          "Palestinian Territory, Occupied",
          "Turkmenistan",
          "Montserrat",
          "Bosnia and Herzegovina",
          "Cocos (Keeling) Islands",
          "Jersey",
          "Guernsey",
          "Isle of Man",
          "Mayotte",
          "French Southern Territories",
          "Saint Martin",
          "Serbia and Montenegro",
          "Equatorial Guinea",
          "Marshall Islands",
          "Timor-Leste",
          "Antarctica",
          "Republic of Serbia",
          "Montenegro",
          "Kosovo",
          "Curaçao",
          "Bonaire, Sint Eustatius and Saba",
          "Saint Barthélemy",
          "Sint Maarten",
          "Bouvet Island",
          "Tuvalu",
          "South Sudan",
          "Namibia"
         ],
         "name": "",
         "type": "choropleth",
         "z": [
          98065245.68928163,
          10109001.024861524,
          825251444.5270083,
          2709107.326800498,
          41661978.94109148,
          27931559.619652256,
          74795.42525009502,
          91245294.88732249,
          61958.47835826999,
          315172815.5579546,
          18070737.99584302,
          6513232.074684826,
          8847497.02679048,
          106348913.30355933,
          264553043.396108,
          95541927.18387549,
          42252274.21251645,
          17433968.421271253,
          23667277.271602787,
          7524042.001948118,
          161741.02902264596,
          272135680.1533157,
          9591567.622949341,
          7571182.424389128,
          743742.2534988222,
          534089.5880000001,
          1229969.2149746877,
          1253206.9886004473,
          5886144.979756962,
          8042120.320161147,
          3580122.9255708857,
          3398.125,
          117569.137,
          7379794.115643199,
          17573.641396,
          4207958.0464578895,
          56193701.38950111,
          108984.202781,
          2855956.1959486,
          2587409.406331999,
          572046.0685356001,
          1854762.9153019998,
          75358270.32748775,
          241782059.00603124,
          1438047.8212140303,
          86071630.5833686,
          61570.485000012995,
          2149283.4263140704,
          2382626.343654791,
          2756115.3751904555,
          250854.45373500002,
          9292.23323993,
          1041330.7591732056,
          5327764.580001,
          102579.62340000001,
          617009.2899532293,
          10783375.92288147,
          31068.155323999996,
          594731.58544,
          5928815.385552346,
          334552.0943120001,
          185780.01489,
          1366176.4014970004,
          2977029.8228011583,
          595490.0135110002,
          10737.480323419999,
          98860.28,
          96864.12150099999,
          220203.45170600005,
          406856.06500000006,
          837024.8404483497,
          3667,
          32617.914828999998,
          422356.048022892,
          118294.3051863,
          340258.780237,
          319108.4568175396,
          436219.045949,
          425966.14607599983,
          2614.576,
          17346347.02040062,
          111560.264176012,
          11810.750011,
          135216.47112000393,
          31493230.979355153,
          219460.06785753113,
          5826711.935242229,
          377200.768669705,
          46745.400232,
          472329.0329209999,
          124614.69075850994,
          40674.83955800003,
          126348.906989866,
          737031.1125919722,
          963547.2717964943,
          98037.793210382,
          2767004.338228719,
          31557.265000000003,
          864901.2521519996,
          33896.78400000001,
          4239,
          33881.65313375105,
          431498.3953655,
          2614389.2884180243,
          377153.30888300005,
          4587317.7510295855,
          7540.535000000001,
          2835.884,
          1619267.8429391556,
          1444078.3714360003,
          587.975,
          42553.831918920005,
          16073.712285878997,
          49015.59007101199,
          172607.88321657598,
          11715.5,
          10191.545,
          166467.48520586998,
          35137.018412461,
          15317402.225480767,
          68009.66500000001,
          6122.086098,
          169132.19322494598,
          93321.05683999993,
          33723,
          9115.980057192995,
          13077.119396984004,
          15099.890000000001,
          3483061.5391079998,
          919.5799999999999,
          28387.471499999996,
          80313.69060400002,
          401552.462922151,
          10495.142,
          46244.15024299696,
          16672.056,
          79150.7,
          27745.486751354987,
          33165.727100000004,
          75468.98847516999,
          683048.7532950001,
          287872.47829999996,
          67098.54100200001,
          730,
          44988.439600000005,
          2765.0020000000004,
          22162.513,
          583838.51366,
          1361196.7370381705,
          53823.55,
          80036352.25553101,
          7277700.7420000015,
          247894.17635999995,
          297.18,
          44924.07710525,
          539,
          1896.452,
          4219.36,
          143245.27,
          67877.1391,
          811.2729999709999,
          3962,
          4062,
          21345.840000100005,
          47463.08100002901,
          501309.36999998806,
          29626.836005,
          1603.3179999999998,
          107.78,
          102008.01164000001,
          652,
          76247.6,
          8338.736999999,
          102833.257123,
          8,
          12348.762572,
          2803007.2941414258,
          774.15,
          265,
          29892354.606428463,
          8148.445000000001,
          384,
          555.7,
          681.6099999999999,
          1045.0360904940003,
          38634,
          477.09,
          200729.26725194007,
          66,
          535.6001151599999,
          85244.294,
          18,
          1125.2,
          26,
          2580.679,
          11359.795999988002,
          25795,
          765,
          525.2450060000001,
          2418,
          446,
          4250,
          181,
          17,
          35939.799999999996,
          3349268.608593148,
          379835.52710000006,
          4265808.097049198,
          2316478.3141549993,
          67438,
          4400,
          1864.0003000000002,
          1980564.6062890114,
          1370236.6963199994,
          807504.9933343601,
          2783619.2740314095,
          586,
          6205.5,
          1794828.6648900202,
          1600461.3266999489,
          246757.3760963,
          18,
          2037087.4565775066,
          17826.74150062006,
          1160643.5207471193,
          14846.348391556001,
          467973.019306,
          16,
          137805.141397,
          6946.535,
          36765.511956999995,
          7752,
          9490.735501000001,
          5007.046,
          682.05,
          13,
          359,
          72956.26100001499,
          325564,
          2282.999990001,
          141,
          67,
          33,
          1687306.7988386657,
          23073.51670004,
          2382.04317,
          361664.18499999994,
          351.20000000000005,
          16842.575499924995,
          73340.87669866504,
          2,
          3,
          20,
          0
         ]
        }
       ],
       "layout": {
        "coloraxis": {
         "colorbar": {
          "title": {
           "text": "Volume"
          }
         },
         "colorscale": [
          [
           0,
           "rgb(254, 252, 205)"
          ],
          [
           0.09090909090909091,
           "rgb(239, 225, 156)"
          ],
          [
           0.18181818181818182,
           "rgb(221, 201, 106)"
          ],
          [
           0.2727272727272727,
           "rgb(194, 182, 59)"
          ],
          [
           0.36363636363636365,
           "rgb(157, 167, 21)"
          ],
          [
           0.45454545454545453,
           "rgb(116, 153, 5)"
          ],
          [
           0.5454545454545454,
           "rgb(75, 138, 20)"
          ],
          [
           0.6363636363636364,
           "rgb(35, 121, 36)"
          ],
          [
           0.7272727272727273,
           "rgb(11, 100, 44)"
          ],
          [
           0.8181818181818182,
           "rgb(18, 78, 43)"
          ],
          [
           0.9090909090909091,
           "rgb(25, 56, 34)"
          ],
          [
           1,
           "rgb(23, 35, 18)"
          ]
         ]
        },
        "geo": {
         "center": {},
         "domain": {
          "x": [
           0,
           1
          ],
          "y": [
           0,
           1
          ]
         },
         "scope": "world"
        },
        "height": 600,
        "legend": {
         "tracegroupgap": 0
        },
        "margin": {
         "t": 60
        },
        "template": {
         "data": {
          "bar": [
           {
            "error_x": {
             "color": "#2a3f5f"
            },
            "error_y": {
             "color": "#2a3f5f"
            },
            "marker": {
             "line": {
              "color": "#E5ECF6",
              "width": 0.5
             },
             "pattern": {
              "fillmode": "overlay",
              "size": 10,
              "solidity": 0.2
             }
            },
            "type": "bar"
           }
          ],
          "barpolar": [
           {
            "marker": {
             "line": {
              "color": "#E5ECF6",
              "width": 0.5
             },
             "pattern": {
              "fillmode": "overlay",
              "size": 10,
              "solidity": 0.2
             }
            },
            "type": "barpolar"
           }
          ],
          "carpet": [
           {
            "aaxis": {
             "endlinecolor": "#2a3f5f",
             "gridcolor": "white",
             "linecolor": "white",
             "minorgridcolor": "white",
             "startlinecolor": "#2a3f5f"
            },
            "baxis": {
             "endlinecolor": "#2a3f5f",
             "gridcolor": "white",
             "linecolor": "white",
             "minorgridcolor": "white",
             "startlinecolor": "#2a3f5f"
            },
            "type": "carpet"
           }
          ],
          "choropleth": [
           {
            "colorbar": {
             "outlinewidth": 0,
             "ticks": ""
            },
            "type": "choropleth"
           }
          ],
          "contour": [
           {
            "colorbar": {
             "outlinewidth": 0,
             "ticks": ""
            },
            "colorscale": [
             [
              0,
              "#0d0887"
             ],
             [
              0.1111111111111111,
              "#46039f"
             ],
             [
              0.2222222222222222,
              "#7201a8"
             ],
             [
              0.3333333333333333,
              "#9c179e"
             ],
             [
              0.4444444444444444,
              "#bd3786"
             ],
             [
              0.5555555555555556,
              "#d8576b"
             ],
             [
              0.6666666666666666,
              "#ed7953"
             ],
             [
              0.7777777777777778,
              "#fb9f3a"
             ],
             [
              0.8888888888888888,
              "#fdca26"
             ],
             [
              1,
              "#f0f921"
             ]
            ],
            "type": "contour"
           }
          ],
          "contourcarpet": [
           {
            "colorbar": {
             "outlinewidth": 0,
             "ticks": ""
            },
            "type": "contourcarpet"
           }
          ],
          "heatmap": [
           {
            "colorbar": {
             "outlinewidth": 0,
             "ticks": ""
            },
            "colorscale": [
             [
              0,
              "#0d0887"
             ],
             [
              0.1111111111111111,
              "#46039f"
             ],
             [
              0.2222222222222222,
              "#7201a8"
             ],
             [
              0.3333333333333333,
              "#9c179e"
             ],
             [
              0.4444444444444444,
              "#bd3786"
             ],
             [
              0.5555555555555556,
              "#d8576b"
             ],
             [
              0.6666666666666666,
              "#ed7953"
             ],
             [
              0.7777777777777778,
              "#fb9f3a"
             ],
             [
              0.8888888888888888,
              "#fdca26"
             ],
             [
              1,
              "#f0f921"
             ]
            ],
            "type": "heatmap"
           }
          ],
          "heatmapgl": [
           {
            "colorbar": {
             "outlinewidth": 0,
             "ticks": ""
            },
            "colorscale": [
             [
              0,
              "#0d0887"
             ],
             [
              0.1111111111111111,
              "#46039f"
             ],
             [
              0.2222222222222222,
              "#7201a8"
             ],
             [
              0.3333333333333333,
              "#9c179e"
             ],
             [
              0.4444444444444444,
              "#bd3786"
             ],
             [
              0.5555555555555556,
              "#d8576b"
             ],
             [
              0.6666666666666666,
              "#ed7953"
             ],
             [
              0.7777777777777778,
              "#fb9f3a"
             ],
             [
              0.8888888888888888,
              "#fdca26"
             ],
             [
              1,
              "#f0f921"
             ]
            ],
            "type": "heatmapgl"
           }
          ],
          "histogram": [
           {
            "marker": {
             "pattern": {
              "fillmode": "overlay",
              "size": 10,
              "solidity": 0.2
             }
            },
            "type": "histogram"
           }
          ],
          "histogram2d": [
           {
            "colorbar": {
             "outlinewidth": 0,
             "ticks": ""
            },
            "colorscale": [
             [
              0,
              "#0d0887"
             ],
             [
              0.1111111111111111,
              "#46039f"
             ],
             [
              0.2222222222222222,
              "#7201a8"
             ],
             [
              0.3333333333333333,
              "#9c179e"
             ],
             [
              0.4444444444444444,
              "#bd3786"
             ],
             [
              0.5555555555555556,
              "#d8576b"
             ],
             [
              0.6666666666666666,
              "#ed7953"
             ],
             [
              0.7777777777777778,
              "#fb9f3a"
             ],
             [
              0.8888888888888888,
              "#fdca26"
             ],
             [
              1,
              "#f0f921"
             ]
            ],
            "type": "histogram2d"
           }
          ],
          "histogram2dcontour": [
           {
            "colorbar": {
             "outlinewidth": 0,
             "ticks": ""
            },
            "colorscale": [
             [
              0,
              "#0d0887"
             ],
             [
              0.1111111111111111,
              "#46039f"
             ],
             [
              0.2222222222222222,
              "#7201a8"
             ],
             [
              0.3333333333333333,
              "#9c179e"
             ],
             [
              0.4444444444444444,
              "#bd3786"
             ],
             [
              0.5555555555555556,
              "#d8576b"
             ],
             [
              0.6666666666666666,
              "#ed7953"
             ],
             [
              0.7777777777777778,
              "#fb9f3a"
             ],
             [
              0.8888888888888888,
              "#fdca26"
             ],
             [
              1,
              "#f0f921"
             ]
            ],
            "type": "histogram2dcontour"
           }
          ],
          "mesh3d": [
           {
            "colorbar": {
             "outlinewidth": 0,
             "ticks": ""
            },
            "type": "mesh3d"
           }
          ],
          "parcoords": [
           {
            "line": {
             "colorbar": {
              "outlinewidth": 0,
              "ticks": ""
             }
            },
            "type": "parcoords"
           }
          ],
          "pie": [
           {
            "automargin": true,
            "type": "pie"
           }
          ],
          "scatter": [
           {
            "fillpattern": {
             "fillmode": "overlay",
             "size": 10,
             "solidity": 0.2
            },
            "type": "scatter"
           }
          ],
          "scatter3d": [
           {
            "line": {
             "colorbar": {
              "outlinewidth": 0,
              "ticks": ""
             }
            },
            "marker": {
             "colorbar": {
              "outlinewidth": 0,
              "ticks": ""
             }
            },
            "type": "scatter3d"
           }
          ],
          "scattercarpet": [
           {
            "marker": {
             "colorbar": {
              "outlinewidth": 0,
              "ticks": ""
             }
            },
            "type": "scattercarpet"
           }
          ],
          "scattergeo": [
           {
            "marker": {
             "colorbar": {
              "outlinewidth": 0,
              "ticks": ""
             }
            },
            "type": "scattergeo"
           }
          ],
          "scattergl": [
           {
            "marker": {
             "colorbar": {
              "outlinewidth": 0,
              "ticks": ""
             }
            },
            "type": "scattergl"
           }
          ],
          "scattermapbox": [
           {
            "marker": {
             "colorbar": {
              "outlinewidth": 0,
              "ticks": ""
             }
            },
            "type": "scattermapbox"
           }
          ],
          "scatterpolar": [
           {
            "marker": {
             "colorbar": {
              "outlinewidth": 0,
              "ticks": ""
             }
            },
            "type": "scatterpolar"
           }
          ],
          "scatterpolargl": [
           {
            "marker": {
             "colorbar": {
              "outlinewidth": 0,
              "ticks": ""
             }
            },
            "type": "scatterpolargl"
           }
          ],
          "scatterternary": [
           {
            "marker": {
             "colorbar": {
              "outlinewidth": 0,
              "ticks": ""
             }
            },
            "type": "scatterternary"
           }
          ],
          "surface": [
           {
            "colorbar": {
             "outlinewidth": 0,
             "ticks": ""
            },
            "colorscale": [
             [
              0,
              "#0d0887"
             ],
             [
              0.1111111111111111,
              "#46039f"
             ],
             [
              0.2222222222222222,
              "#7201a8"
             ],
             [
              0.3333333333333333,
              "#9c179e"
             ],
             [
              0.4444444444444444,
              "#bd3786"
             ],
             [
              0.5555555555555556,
              "#d8576b"
             ],
             [
              0.6666666666666666,
              "#ed7953"
             ],
             [
              0.7777777777777778,
              "#fb9f3a"
             ],
             [
              0.8888888888888888,
              "#fdca26"
             ],
             [
              1,
              "#f0f921"
             ]
            ],
            "type": "surface"
           }
          ],
          "table": [
           {
            "cells": {
             "fill": {
              "color": "#EBF0F8"
             },
             "line": {
              "color": "white"
             }
            },
            "header": {
             "fill": {
              "color": "#C8D4E3"
             },
             "line": {
              "color": "white"
             }
            },
            "type": "table"
           }
          ]
         },
         "layout": {
          "annotationdefaults": {
           "arrowcolor": "#2a3f5f",
           "arrowhead": 0,
           "arrowwidth": 1
          },
          "autotypenumbers": "strict",
          "coloraxis": {
           "colorbar": {
            "outlinewidth": 0,
            "ticks": ""
           }
          },
          "colorscale": {
           "diverging": [
            [
             0,
             "#8e0152"
            ],
            [
             0.1,
             "#c51b7d"
            ],
            [
             0.2,
             "#de77ae"
            ],
            [
             0.3,
             "#f1b6da"
            ],
            [
             0.4,
             "#fde0ef"
            ],
            [
             0.5,
             "#f7f7f7"
            ],
            [
             0.6,
             "#e6f5d0"
            ],
            [
             0.7,
             "#b8e186"
            ],
            [
             0.8,
             "#7fbc41"
            ],
            [
             0.9,
             "#4d9221"
            ],
            [
             1,
             "#276419"
            ]
           ],
           "sequential": [
            [
             0,
             "#0d0887"
            ],
            [
             0.1111111111111111,
             "#46039f"
            ],
            [
             0.2222222222222222,
             "#7201a8"
            ],
            [
             0.3333333333333333,
             "#9c179e"
            ],
            [
             0.4444444444444444,
             "#bd3786"
            ],
            [
             0.5555555555555556,
             "#d8576b"
            ],
            [
             0.6666666666666666,
             "#ed7953"
            ],
            [
             0.7777777777777778,
             "#fb9f3a"
            ],
            [
             0.8888888888888888,
             "#fdca26"
            ],
            [
             1,
             "#f0f921"
            ]
           ],
           "sequentialminus": [
            [
             0,
             "#0d0887"
            ],
            [
             0.1111111111111111,
             "#46039f"
            ],
            [
             0.2222222222222222,
             "#7201a8"
            ],
            [
             0.3333333333333333,
             "#9c179e"
            ],
            [
             0.4444444444444444,
             "#bd3786"
            ],
            [
             0.5555555555555556,
             "#d8576b"
            ],
            [
             0.6666666666666666,
             "#ed7953"
            ],
            [
             0.7777777777777778,
             "#fb9f3a"
            ],
            [
             0.8888888888888888,
             "#fdca26"
            ],
            [
             1,
             "#f0f921"
            ]
           ]
          },
          "colorway": [
           "#636efa",
           "#EF553B",
           "#00cc96",
           "#ab63fa",
           "#FFA15A",
           "#19d3f3",
           "#FF6692",
           "#B6E880",
           "#FF97FF",
           "#FECB52"
          ],
          "font": {
           "color": "#2a3f5f"
          },
          "geo": {
           "bgcolor": "white",
           "lakecolor": "white",
           "landcolor": "#E5ECF6",
           "showlakes": true,
           "showland": true,
           "subunitcolor": "white"
          },
          "hoverlabel": {
           "align": "left"
          },
          "hovermode": "closest",
          "mapbox": {
           "style": "light"
          },
          "paper_bgcolor": "white",
          "plot_bgcolor": "#E5ECF6",
          "polar": {
           "angularaxis": {
            "gridcolor": "white",
            "linecolor": "white",
            "ticks": ""
           },
           "bgcolor": "#E5ECF6",
           "radialaxis": {
            "gridcolor": "white",
            "linecolor": "white",
            "ticks": ""
           }
          },
          "scene": {
           "xaxis": {
            "backgroundcolor": "#E5ECF6",
            "gridcolor": "white",
            "gridwidth": 2,
            "linecolor": "white",
            "showbackground": true,
            "ticks": "",
            "zerolinecolor": "white"
           },
           "yaxis": {
            "backgroundcolor": "#E5ECF6",
            "gridcolor": "white",
            "gridwidth": 2,
            "linecolor": "white",
            "showbackground": true,
            "ticks": "",
            "zerolinecolor": "white"
           },
           "zaxis": {
            "backgroundcolor": "#E5ECF6",
            "gridcolor": "white",
            "gridwidth": 2,
            "linecolor": "white",
            "showbackground": true,
            "ticks": "",
            "zerolinecolor": "white"
           }
          },
          "shapedefaults": {
           "line": {
            "color": "#2a3f5f"
           }
          },
          "ternary": {
           "aaxis": {
            "gridcolor": "white",
            "linecolor": "white",
            "ticks": ""
           },
           "baxis": {
            "gridcolor": "white",
            "linecolor": "white",
            "ticks": ""
           },
           "bgcolor": "#E5ECF6",
           "caxis": {
            "gridcolor": "white",
            "linecolor": "white",
            "ticks": ""
           }
          },
          "title": {
           "x": 0.05
          },
          "xaxis": {
           "automargin": true,
           "gridcolor": "white",
           "linecolor": "white",
           "ticks": "",
           "title": {
            "standoff": 15
           },
           "zerolinecolor": "white",
           "zerolinewidth": 2
          },
          "yaxis": {
           "automargin": true,
           "gridcolor": "white",
           "linecolor": "white",
           "ticks": "",
           "title": {
            "standoff": 15
           },
           "zerolinecolor": "white",
           "zerolinewidth": 2
          }
         }
        },
        "title": {
         "font": {
          "family": "calibri",
          "size": 30
         },
         "text": "Importing countries - Legend",
         "x": 0.5,
         "y": 0.95
        },
        "width": 1000
       }
      }
     },
     "metadata": {},
     "output_type": "display_data"
    },
    {
     "data": {
      "application/vnd.plotly.v1+json": {
       "config": {
        "plotlyServerURL": "https://plot.ly"
       },
       "data": [
        {
         "coloraxis": "coloraxis",
         "geo": "geo",
         "hovertemplate": "<b>%{hovertext}</b><br><br>Exporter=%{location}<br>Volume=%{z}<extra></extra>",
         "hovertext": [
          "Germany",
          "Portugal",
          "Switzerland",
          "France",
          "Canada",
          "United Kingdom",
          "Croatia",
          "United States",
          "Unknown",
          "Botswana",
          "Kenya",
          "South Africa",
          "Finland",
          "Belgium",
          "New Zealand",
          "Denmark",
          "Thailand",
          "Seychelles",
          "Nicaragua",
          "India",
          "Costa Rica",
          "Papua New Guinea",
          "Netherlands",
          "Italy",
          "Paraguay",
          "New Caledonia",
          "Greece",
          "Liberia",
          "Ghana",
          "Philippines",
          "Yugoslavia",
          "Zambia",
          "China",
          "Austria",
          "Madagascar",
          "Zimbabwe",
          "Ethiopia",
          "Malaysia",
          "Sri Lanka",
          "Hungary",
          "Argentina",
          "Cameroon",
          "Hong Kong",
          "Brazil",
          "Ireland",
          "Lao, People's Democratic Republic",
          "Sudan",
          "Sierra Leone",
          "Burundi",
          "Nigeria",
          "Indonesia",
          "Norway",
          "German Democratic Republic",
          "Bangladesh",
          "Spain",
          "Colombia",
          "Singapore",
          "Panama",
          "Mauritius",
          "Pakistan",
          "Saudi Arabia",
          "Somalia",
          "Sweden",
          "Honduras",
          "Suriname",
          "Saint Helena",
          "Australia",
          "Togo",
          "Bolivia",
          "Turkey",
          "Morocco",
          "Algeria",
          "Malta",
          "Tunisia",
          "Venezuela",
          "Cayman Islands",
          "Israel",
          "Poland",
          "Tanzania, United Republic of",
          "Japan",
          "Maldives",
          "United Arab Emirates",
          "Russia Federation",
          "Afghanistan",
          "Cyprus",
          "Mongolia",
          "Guyana",
          "Mozambique",
          "Guatemala",
          "Mexico",
          "Egypt",
          "Saint Kitts & Nevis",
          "Bulgaria",
          "Senegal",
          "Libyan Arab Jamahiriya",
          "Belize",
          "Haiti",
          "Peru",
          "Cote d'Ivoire",
          "Lebanon",
          "Uganda",
          "Central African Republic",
          "Congo, The Democratic Republic of ",
          "Chile",
          "Vietnam",
          "Iran, Islamic Republic of",
          "Greenland",
          "Nepal",
          "Cuba",
          "French Polynesia",
          "Korea, Republic of",
          "El Salvador",
          "Uruguay",
          "French Guiana",
          "Grenada",
          "Dominican Republic",
          "Mali",
          "Ecuador",
          "Jamaica",
          "Macao",
          "Malawi",
          "Chad",
          "Luxembourg",
          "Iraq",
          "Taiwan, Province of China",
          "Korea, Democratic People's Republic of",
          "Myanmar",
          "Oman",
          "Swaziland",
          "Turks and Caicos Islands",
          "Albania",
          "Barbados",
          "Dominica",
          "Trinidad and Tobago",
          "Rwanda",
          "Bahrain",
          "Netherlands Antilles",
          "Benin",
          "Congo",
          "Gabon",
          "Djibouti",
          "Bermuda",
          "Iceland",
          "Bahamas",
          "Mauritania",
          "Fiji",
          "Tonga",
          "Cape Verde",
          "Guadeloupe",
          "Brunei Darussalam",
          "Kuwait",
          "Virgin Islands, U.S.",
          "Equatorial Guinea",
          "Monaco",
          "Guinea",
          "Gambia",
          "Qatar",
          "Vanuatu",
          "Gibraltar",
          "Comoros",
          "Niger",
          "Cambodia",
          "Samoa",
          "Saint Vincent and the Grenadines",
          "Romania",
          "Kiribati",
          "Faroe Islands",
          "Angola",
          "Christmas Island",
          "Burkina Faso",
          "Saint Lucia",
          "Antigua and Barbuda",
          "Pacific Islands",
          "Solomon Islands",
          "Virgin Islands, British",
          "Syrian Arab Republic",
          "Guinea-Bissau",
          "Martinique",
          "Puerto Rico",
          "Jordan",
          "Lesotho",
          "Montserrat",
          "Yemen",
          "United States Minor Outlying Islands",
          "Svalbard and Jan Mayen",
          "Falkland Islands (Malvinas)",
          "American Samoa",
          "Guam",
          "Bhutan",
          "Liechtenstein",
          "Reunion",
          "Aruba",
          "Norfolk Island",
          "Tuvalu",
          "Nauru",
          "Sao Tome and Principe",
          "Holy See (Vatican City State)",
          "Cocos (Keeling) Islands",
          "Northern Mariana Islands",
          "Antarctica",
          "Micronesia, Federated States of",
          "Cook Islands",
          "Marshall Islands",
          "Palau",
          "Tokelau",
          "Niue",
          "British Indian Ocean Territory",
          "Pitcairn",
          "Latvia",
          "Lithuania",
          "Slovakia",
          "Ukraine",
          "Czechia",
          "Belarus",
          "Georgia",
          "Estonia",
          "Uzbekistan",
          "Kazakstan",
          "Timor-Leste",
          "Slovenia",
          "Kyrgyzstan",
          "Macedonia, The Former Yugoslav Republic Of",
          "Bosnia and Herzegovina",
          "Azerbaijan",
          "Eritrea",
          "Anguilla",
          "Turkmenistan",
          "Mayotte",
          "Moldova, Republic of",
          "San Marino",
          "Andorra",
          "Tajikistan",
          "French Southern Territories",
          "Western Sahara",
          "Armenia",
          "South Georgia & The South Sandwich Islands",
          "Heard and Mc Donald Islands",
          "Jersey",
          "Isle of Man",
          "Guernsey",
          "Saint Pierre and Miquelon",
          "Wallis and Futuna",
          "Serbia and Montenegro",
          "Republic of Serbia",
          "Montenegro",
          "Saint Martin",
          "Curaçao",
          "Bonaire, Sint Eustatius and Saba",
          "Sint Maarten",
          "Saint Barthélemy",
          "Palestinian Territory, Occupied",
          "South Sudan",
          "Namibia"
         ],
         "locationmode": "country names",
         "locations": [
          "Germany",
          "Portugal",
          "Switzerland",
          "France",
          "Canada",
          "United Kingdom",
          "Croatia",
          "United States",
          "Unknown",
          "Botswana",
          "Kenya",
          "South Africa",
          "Finland",
          "Belgium",
          "New Zealand",
          "Denmark",
          "Thailand",
          "Seychelles",
          "Nicaragua",
          "India",
          "Costa Rica",
          "Papua New Guinea",
          "Netherlands",
          "Italy",
          "Paraguay",
          "New Caledonia",
          "Greece",
          "Liberia",
          "Ghana",
          "Philippines",
          "Yugoslavia",
          "Zambia",
          "China",
          "Austria",
          "Madagascar",
          "Zimbabwe",
          "Ethiopia",
          "Malaysia",
          "Sri Lanka",
          "Hungary",
          "Argentina",
          "Cameroon",
          "Hong Kong",
          "Brazil",
          "Ireland",
          "Lao, People's Democratic Republic",
          "Sudan",
          "Sierra Leone",
          "Burundi",
          "Nigeria",
          "Indonesia",
          "Norway",
          "German Democratic Republic",
          "Bangladesh",
          "Spain",
          "Colombia",
          "Singapore",
          "Panama",
          "Mauritius",
          "Pakistan",
          "Saudi Arabia",
          "Somalia",
          "Sweden",
          "Honduras",
          "Suriname",
          "Saint Helena",
          "Australia",
          "Togo",
          "Bolivia",
          "Turkey",
          "Morocco",
          "Algeria",
          "Malta",
          "Tunisia",
          "Venezuela",
          "Cayman Islands",
          "Israel",
          "Poland",
          "Tanzania, United Republic of",
          "Japan",
          "Maldives",
          "United Arab Emirates",
          "Russia Federation",
          "Afghanistan",
          "Cyprus",
          "Mongolia",
          "Guyana",
          "Mozambique",
          "Guatemala",
          "Mexico",
          "Egypt",
          "Saint Kitts & Nevis",
          "Bulgaria",
          "Senegal",
          "Libyan Arab Jamahiriya",
          "Belize",
          "Haiti",
          "Peru",
          "Cote d'Ivoire",
          "Lebanon",
          "Uganda",
          "Central African Republic",
          "Congo, The Democratic Republic of ",
          "Chile",
          "Vietnam",
          "Iran, Islamic Republic of",
          "Greenland",
          "Nepal",
          "Cuba",
          "French Polynesia",
          "Korea, Republic of",
          "El Salvador",
          "Uruguay",
          "French Guiana",
          "Grenada",
          "Dominican Republic",
          "Mali",
          "Ecuador",
          "Jamaica",
          "Macao",
          "Malawi",
          "Chad",
          "Luxembourg",
          "Iraq",
          "Taiwan, Province of China",
          "Korea, Democratic People's Republic of",
          "Myanmar",
          "Oman",
          "Swaziland",
          "Turks and Caicos Islands",
          "Albania",
          "Barbados",
          "Dominica",
          "Trinidad and Tobago",
          "Rwanda",
          "Bahrain",
          "Netherlands Antilles",
          "Benin",
          "Congo",
          "Gabon",
          "Djibouti",
          "Bermuda",
          "Iceland",
          "Bahamas",
          "Mauritania",
          "Fiji",
          "Tonga",
          "Cape Verde",
          "Guadeloupe",
          "Brunei Darussalam",
          "Kuwait",
          "Virgin Islands, U.S.",
          "Equatorial Guinea",
          "Monaco",
          "Guinea",
          "Gambia",
          "Qatar",
          "Vanuatu",
          "Gibraltar",
          "Comoros",
          "Niger",
          "Cambodia",
          "Samoa",
          "Saint Vincent and the Grenadines",
          "Romania",
          "Kiribati",
          "Faroe Islands",
          "Angola",
          "Christmas Island",
          "Burkina Faso",
          "Saint Lucia",
          "Antigua and Barbuda",
          "Pacific Islands",
          "Solomon Islands",
          "Virgin Islands, British",
          "Syrian Arab Republic",
          "Guinea-Bissau",
          "Martinique",
          "Puerto Rico",
          "Jordan",
          "Lesotho",
          "Montserrat",
          "Yemen",
          "United States Minor Outlying Islands",
          "Svalbard and Jan Mayen",
          "Falkland Islands (Malvinas)",
          "American Samoa",
          "Guam",
          "Bhutan",
          "Liechtenstein",
          "Reunion",
          "Aruba",
          "Norfolk Island",
          "Tuvalu",
          "Nauru",
          "Sao Tome and Principe",
          "Holy See (Vatican City State)",
          "Cocos (Keeling) Islands",
          "Northern Mariana Islands",
          "Antarctica",
          "Micronesia, Federated States of",
          "Cook Islands",
          "Marshall Islands",
          "Palau",
          "Tokelau",
          "Niue",
          "British Indian Ocean Territory",
          "Pitcairn",
          "Latvia",
          "Lithuania",
          "Slovakia",
          "Ukraine",
          "Czechia",
          "Belarus",
          "Georgia",
          "Estonia",
          "Uzbekistan",
          "Kazakstan",
          "Timor-Leste",
          "Slovenia",
          "Kyrgyzstan",
          "Macedonia, The Former Yugoslav Republic Of",
          "Bosnia and Herzegovina",
          "Azerbaijan",
          "Eritrea",
          "Anguilla",
          "Turkmenistan",
          "Mayotte",
          "Moldova, Republic of",
          "San Marino",
          "Andorra",
          "Tajikistan",
          "French Southern Territories",
          "Western Sahara",
          "Armenia",
          "South Georgia & The South Sandwich Islands",
          "Heard and Mc Donald Islands",
          "Jersey",
          "Isle of Man",
          "Guernsey",
          "Saint Pierre and Miquelon",
          "Wallis and Futuna",
          "Serbia and Montenegro",
          "Republic of Serbia",
          "Montenegro",
          "Saint Martin",
          "Curaçao",
          "Bonaire, Sint Eustatius and Saba",
          "Sint Maarten",
          "Saint Barthélemy",
          "Palestinian Territory, Occupied",
          "South Sudan",
          "Namibia"
         ],
         "name": "",
         "type": "choropleth",
         "z": [
          39809818.17560417,
          5898623.978101999,
          85096391.06451887,
          223566622.93405473,
          38821911.10684292,
          21833051.608421907,
          278006.8298975,
          130779076.57260062,
          24718416.86543817,
          651337.5619499999,
          6331578.283393,
          29842513.30441246,
          125851.66738803801,
          6017833.796996991,
          199379.10019390006,
          835120.2038359997,
          44700993.41125301,
          218946.54801557204,
          16861941.753499765,
          385112715.7427645,
          3254396.467290001,
          5806634.789007998,
          5308107.388144221,
          94760069.84717639,
          10383749.105,
          202069.32740000015,
          454658.05871599994,
          399680.304,
          6814405.963,
          32605303.51580669,
          330941,
          3920481.7328599994,
          403839783.0325567,
          24561597.122289207,
          6679817.90049348,
          11914859.242342995,
          78245.46575,
          33801909.158501774,
          1469369.7291040004,
          11183606.5355,
          97271834.70400044,
          2804809.182800002,
          135250037.38313767,
          5762549.92699,
          29329.241199999997,
          1165626.2340000004,
          5436545.948,
          40679.925,
          387034.2,
          646661.828,
          190991534.4412325,
          8203557.884338017,
          289738.349844,
          31814009.305299994,
          30331334.704445317,
          52289253.62670003,
          100495998.47253281,
          6551837.641515998,
          18945465.435565006,
          1060948.6872689999,
          145418.69589999993,
          192037.5,
          243292.8153647999,
          19441235.418160006,
          1714294.0429999996,
          4289.001200000001,
          17641561.94737814,
          6129378.003119999,
          5735780.503349998,
          3134870.21550002,
          8080261.656400001,
          49302.644,
          54926.57799999999,
          7192910.008999999,
          3154795.903654999,
          812961.5403729997,
          3579648.926199199,
          8599823.391049331,
          4041862.0569999996,
          31674659.363667406,
          14639.718,
          1428008.8004476794,
          10919212.284032373,
          8692,
          27382.317499999997,
          81953.329,
          2901940.3810000024,
          3737478.9390000002,
          2195636.9190000007,
          29293690.30878899,
          640606.28,
          1815411.118455999,
          686846.754,
          13863709.4173,
          12840,
          14107665.14219998,
          5440499.01047,
          17076988.938277017,
          164479.67700000008,
          311763.95402544003,
          468357.07874599984,
          785224.9849999999,
          958084.82529,
          1079882.6408115004,
          43132006.11403574,
          2147516.6530002854,
          318899.32416800014,
          26406.455,
          2235297.4884,
          219771.1682759999,
          124374113.4331289,
          20074428.093000006,
          3526652.6390040023,
          15346.431,
          8478.182,
          5959326.428773003,
          8023597.73,
          6805290.403399998,
          24922687.87017461,
          56343.834227950014,
          243853.74000000002,
          2152358.3,
          20162.658999999996,
          3103.736,
          30359891.93233891,
          41392.15,
          65551.72248799998,
          363520.02890000003,
          9003.708999999999,
          9802923.199400002,
          2325.1770009999996,
          74336.617525,
          27001.265000000007,
          40770.592306000006,
          11094.842045050009,
          70307.1799,
          146064.25005,
          3396217.517,
          868881.9993499999,
          117511.59330001698,
          12677.566570000003,
          75855.672131,
          17266761.14360001,
          15149637.710260987,
          1960.1999999999998,
          57823301.44940001,
          7030947.747642003,
          14578.032,
          5068,
          5158.105000000001,
          121527.649999998,
          428.25,
          34785.505000000005,
          165419.23899999997,
          4888112,
          693.01,
          47607.16442669999,
          1257338.576,
          4379.072,
          128401,
          233376.2,
          2920755.3796590003,
          335077.40075000003,
          1640660.4227,
          1924972.7904999994,
          60653.57700000001,
          7985.914,
          9858.594000000001,
          11122,
          6460,
          158021.01799999998,
          50438.06349999999,
          81918,
          3266928.5170340003,
          6235.063132000001,
          285336.929,
          7182.102000000001,
          19919,
          1364.581,
          491851.46300000005,
          3018.002,
          361.3072,
          197601.10500000004,
          4041,
          1155.571,
          42745.660399999986,
          408.88800000000003,
          8917,
          7769.005,
          243.5,
          3941,
          8557.34,
          1423.6949500000003,
          27,
          2110,
          12535.5,
          184,
          25274,
          40,
          12078.594,
          322179.123462,
          117314.91594000006,
          1298684.5596549998,
          340163.65423,
          1296.024,
          620.984,
          3193.6,
          516.25,
          164055.59181857106,
          293984.906,
          152264.56950000004,
          5566185.800999999,
          1539501.4714000004,
          250483.15300000002,
          93680.08450000001,
          289005.82410000014,
          2752173.711,
          824815.747,
          3650,
          4831112.4240767425,
          141152.553,
          356706.48,
          425.5799999999999,
          3043836.321,
          773,
          10854.171100000001,
          556.998,
          5902.1335,
          413456.216,
          19320.411,
          101.09,
          32803.903999999995,
          45.415,
          169,
          13805459.851999993,
          9417.667599999999,
          1928,
          8658.675350000003,
          409.03099999999995,
          1690,
          3,
          1506,
          9465.220000000001,
          242389.04855,
          345,
          37,
          45423.574400000005,
          20844.309,
          2093.334,
          329,
          1,
          49,
          0
         ]
        }
       ],
       "layout": {
        "coloraxis": {
         "colorbar": {
          "title": {
           "text": "Volume"
          }
         },
         "colorscale": [
          [
           0,
           "rgb(254, 252, 205)"
          ],
          [
           0.09090909090909091,
           "rgb(239, 225, 156)"
          ],
          [
           0.18181818181818182,
           "rgb(221, 201, 106)"
          ],
          [
           0.2727272727272727,
           "rgb(194, 182, 59)"
          ],
          [
           0.36363636363636365,
           "rgb(157, 167, 21)"
          ],
          [
           0.45454545454545453,
           "rgb(116, 153, 5)"
          ],
          [
           0.5454545454545454,
           "rgb(75, 138, 20)"
          ],
          [
           0.6363636363636364,
           "rgb(35, 121, 36)"
          ],
          [
           0.7272727272727273,
           "rgb(11, 100, 44)"
          ],
          [
           0.8181818181818182,
           "rgb(18, 78, 43)"
          ],
          [
           0.9090909090909091,
           "rgb(25, 56, 34)"
          ],
          [
           1,
           "rgb(23, 35, 18)"
          ]
         ]
        },
        "geo": {
         "center": {},
         "domain": {
          "x": [
           0,
           1
          ],
          "y": [
           0,
           1
          ]
         },
         "scope": "world"
        },
        "height": 600,
        "legend": {
         "tracegroupgap": 0
        },
        "margin": {
         "t": 60
        },
        "template": {
         "data": {
          "bar": [
           {
            "error_x": {
             "color": "#2a3f5f"
            },
            "error_y": {
             "color": "#2a3f5f"
            },
            "marker": {
             "line": {
              "color": "#E5ECF6",
              "width": 0.5
             },
             "pattern": {
              "fillmode": "overlay",
              "size": 10,
              "solidity": 0.2
             }
            },
            "type": "bar"
           }
          ],
          "barpolar": [
           {
            "marker": {
             "line": {
              "color": "#E5ECF6",
              "width": 0.5
             },
             "pattern": {
              "fillmode": "overlay",
              "size": 10,
              "solidity": 0.2
             }
            },
            "type": "barpolar"
           }
          ],
          "carpet": [
           {
            "aaxis": {
             "endlinecolor": "#2a3f5f",
             "gridcolor": "white",
             "linecolor": "white",
             "minorgridcolor": "white",
             "startlinecolor": "#2a3f5f"
            },
            "baxis": {
             "endlinecolor": "#2a3f5f",
             "gridcolor": "white",
             "linecolor": "white",
             "minorgridcolor": "white",
             "startlinecolor": "#2a3f5f"
            },
            "type": "carpet"
           }
          ],
          "choropleth": [
           {
            "colorbar": {
             "outlinewidth": 0,
             "ticks": ""
            },
            "type": "choropleth"
           }
          ],
          "contour": [
           {
            "colorbar": {
             "outlinewidth": 0,
             "ticks": ""
            },
            "colorscale": [
             [
              0,
              "#0d0887"
             ],
             [
              0.1111111111111111,
              "#46039f"
             ],
             [
              0.2222222222222222,
              "#7201a8"
             ],
             [
              0.3333333333333333,
              "#9c179e"
             ],
             [
              0.4444444444444444,
              "#bd3786"
             ],
             [
              0.5555555555555556,
              "#d8576b"
             ],
             [
              0.6666666666666666,
              "#ed7953"
             ],
             [
              0.7777777777777778,
              "#fb9f3a"
             ],
             [
              0.8888888888888888,
              "#fdca26"
             ],
             [
              1,
              "#f0f921"
             ]
            ],
            "type": "contour"
           }
          ],
          "contourcarpet": [
           {
            "colorbar": {
             "outlinewidth": 0,
             "ticks": ""
            },
            "type": "contourcarpet"
           }
          ],
          "heatmap": [
           {
            "colorbar": {
             "outlinewidth": 0,
             "ticks": ""
            },
            "colorscale": [
             [
              0,
              "#0d0887"
             ],
             [
              0.1111111111111111,
              "#46039f"
             ],
             [
              0.2222222222222222,
              "#7201a8"
             ],
             [
              0.3333333333333333,
              "#9c179e"
             ],
             [
              0.4444444444444444,
              "#bd3786"
             ],
             [
              0.5555555555555556,
              "#d8576b"
             ],
             [
              0.6666666666666666,
              "#ed7953"
             ],
             [
              0.7777777777777778,
              "#fb9f3a"
             ],
             [
              0.8888888888888888,
              "#fdca26"
             ],
             [
              1,
              "#f0f921"
             ]
            ],
            "type": "heatmap"
           }
          ],
          "heatmapgl": [
           {
            "colorbar": {
             "outlinewidth": 0,
             "ticks": ""
            },
            "colorscale": [
             [
              0,
              "#0d0887"
             ],
             [
              0.1111111111111111,
              "#46039f"
             ],
             [
              0.2222222222222222,
              "#7201a8"
             ],
             [
              0.3333333333333333,
              "#9c179e"
             ],
             [
              0.4444444444444444,
              "#bd3786"
             ],
             [
              0.5555555555555556,
              "#d8576b"
             ],
             [
              0.6666666666666666,
              "#ed7953"
             ],
             [
              0.7777777777777778,
              "#fb9f3a"
             ],
             [
              0.8888888888888888,
              "#fdca26"
             ],
             [
              1,
              "#f0f921"
             ]
            ],
            "type": "heatmapgl"
           }
          ],
          "histogram": [
           {
            "marker": {
             "pattern": {
              "fillmode": "overlay",
              "size": 10,
              "solidity": 0.2
             }
            },
            "type": "histogram"
           }
          ],
          "histogram2d": [
           {
            "colorbar": {
             "outlinewidth": 0,
             "ticks": ""
            },
            "colorscale": [
             [
              0,
              "#0d0887"
             ],
             [
              0.1111111111111111,
              "#46039f"
             ],
             [
              0.2222222222222222,
              "#7201a8"
             ],
             [
              0.3333333333333333,
              "#9c179e"
             ],
             [
              0.4444444444444444,
              "#bd3786"
             ],
             [
              0.5555555555555556,
              "#d8576b"
             ],
             [
              0.6666666666666666,
              "#ed7953"
             ],
             [
              0.7777777777777778,
              "#fb9f3a"
             ],
             [
              0.8888888888888888,
              "#fdca26"
             ],
             [
              1,
              "#f0f921"
             ]
            ],
            "type": "histogram2d"
           }
          ],
          "histogram2dcontour": [
           {
            "colorbar": {
             "outlinewidth": 0,
             "ticks": ""
            },
            "colorscale": [
             [
              0,
              "#0d0887"
             ],
             [
              0.1111111111111111,
              "#46039f"
             ],
             [
              0.2222222222222222,
              "#7201a8"
             ],
             [
              0.3333333333333333,
              "#9c179e"
             ],
             [
              0.4444444444444444,
              "#bd3786"
             ],
             [
              0.5555555555555556,
              "#d8576b"
             ],
             [
              0.6666666666666666,
              "#ed7953"
             ],
             [
              0.7777777777777778,
              "#fb9f3a"
             ],
             [
              0.8888888888888888,
              "#fdca26"
             ],
             [
              1,
              "#f0f921"
             ]
            ],
            "type": "histogram2dcontour"
           }
          ],
          "mesh3d": [
           {
            "colorbar": {
             "outlinewidth": 0,
             "ticks": ""
            },
            "type": "mesh3d"
           }
          ],
          "parcoords": [
           {
            "line": {
             "colorbar": {
              "outlinewidth": 0,
              "ticks": ""
             }
            },
            "type": "parcoords"
           }
          ],
          "pie": [
           {
            "automargin": true,
            "type": "pie"
           }
          ],
          "scatter": [
           {
            "fillpattern": {
             "fillmode": "overlay",
             "size": 10,
             "solidity": 0.2
            },
            "type": "scatter"
           }
          ],
          "scatter3d": [
           {
            "line": {
             "colorbar": {
              "outlinewidth": 0,
              "ticks": ""
             }
            },
            "marker": {
             "colorbar": {
              "outlinewidth": 0,
              "ticks": ""
             }
            },
            "type": "scatter3d"
           }
          ],
          "scattercarpet": [
           {
            "marker": {
             "colorbar": {
              "outlinewidth": 0,
              "ticks": ""
             }
            },
            "type": "scattercarpet"
           }
          ],
          "scattergeo": [
           {
            "marker": {
             "colorbar": {
              "outlinewidth": 0,
              "ticks": ""
             }
            },
            "type": "scattergeo"
           }
          ],
          "scattergl": [
           {
            "marker": {
             "colorbar": {
              "outlinewidth": 0,
              "ticks": ""
             }
            },
            "type": "scattergl"
           }
          ],
          "scattermapbox": [
           {
            "marker": {
             "colorbar": {
              "outlinewidth": 0,
              "ticks": ""
             }
            },
            "type": "scattermapbox"
           }
          ],
          "scatterpolar": [
           {
            "marker": {
             "colorbar": {
              "outlinewidth": 0,
              "ticks": ""
             }
            },
            "type": "scatterpolar"
           }
          ],
          "scatterpolargl": [
           {
            "marker": {
             "colorbar": {
              "outlinewidth": 0,
              "ticks": ""
             }
            },
            "type": "scatterpolargl"
           }
          ],
          "scatterternary": [
           {
            "marker": {
             "colorbar": {
              "outlinewidth": 0,
              "ticks": ""
             }
            },
            "type": "scatterternary"
           }
          ],
          "surface": [
           {
            "colorbar": {
             "outlinewidth": 0,
             "ticks": ""
            },
            "colorscale": [
             [
              0,
              "#0d0887"
             ],
             [
              0.1111111111111111,
              "#46039f"
             ],
             [
              0.2222222222222222,
              "#7201a8"
             ],
             [
              0.3333333333333333,
              "#9c179e"
             ],
             [
              0.4444444444444444,
              "#bd3786"
             ],
             [
              0.5555555555555556,
              "#d8576b"
             ],
             [
              0.6666666666666666,
              "#ed7953"
             ],
             [
              0.7777777777777778,
              "#fb9f3a"
             ],
             [
              0.8888888888888888,
              "#fdca26"
             ],
             [
              1,
              "#f0f921"
             ]
            ],
            "type": "surface"
           }
          ],
          "table": [
           {
            "cells": {
             "fill": {
              "color": "#EBF0F8"
             },
             "line": {
              "color": "white"
             }
            },
            "header": {
             "fill": {
              "color": "#C8D4E3"
             },
             "line": {
              "color": "white"
             }
            },
            "type": "table"
           }
          ]
         },
         "layout": {
          "annotationdefaults": {
           "arrowcolor": "#2a3f5f",
           "arrowhead": 0,
           "arrowwidth": 1
          },
          "autotypenumbers": "strict",
          "coloraxis": {
           "colorbar": {
            "outlinewidth": 0,
            "ticks": ""
           }
          },
          "colorscale": {
           "diverging": [
            [
             0,
             "#8e0152"
            ],
            [
             0.1,
             "#c51b7d"
            ],
            [
             0.2,
             "#de77ae"
            ],
            [
             0.3,
             "#f1b6da"
            ],
            [
             0.4,
             "#fde0ef"
            ],
            [
             0.5,
             "#f7f7f7"
            ],
            [
             0.6,
             "#e6f5d0"
            ],
            [
             0.7,
             "#b8e186"
            ],
            [
             0.8,
             "#7fbc41"
            ],
            [
             0.9,
             "#4d9221"
            ],
            [
             1,
             "#276419"
            ]
           ],
           "sequential": [
            [
             0,
             "#0d0887"
            ],
            [
             0.1111111111111111,
             "#46039f"
            ],
            [
             0.2222222222222222,
             "#7201a8"
            ],
            [
             0.3333333333333333,
             "#9c179e"
            ],
            [
             0.4444444444444444,
             "#bd3786"
            ],
            [
             0.5555555555555556,
             "#d8576b"
            ],
            [
             0.6666666666666666,
             "#ed7953"
            ],
            [
             0.7777777777777778,
             "#fb9f3a"
            ],
            [
             0.8888888888888888,
             "#fdca26"
            ],
            [
             1,
             "#f0f921"
            ]
           ],
           "sequentialminus": [
            [
             0,
             "#0d0887"
            ],
            [
             0.1111111111111111,
             "#46039f"
            ],
            [
             0.2222222222222222,
             "#7201a8"
            ],
            [
             0.3333333333333333,
             "#9c179e"
            ],
            [
             0.4444444444444444,
             "#bd3786"
            ],
            [
             0.5555555555555556,
             "#d8576b"
            ],
            [
             0.6666666666666666,
             "#ed7953"
            ],
            [
             0.7777777777777778,
             "#fb9f3a"
            ],
            [
             0.8888888888888888,
             "#fdca26"
            ],
            [
             1,
             "#f0f921"
            ]
           ]
          },
          "colorway": [
           "#636efa",
           "#EF553B",
           "#00cc96",
           "#ab63fa",
           "#FFA15A",
           "#19d3f3",
           "#FF6692",
           "#B6E880",
           "#FF97FF",
           "#FECB52"
          ],
          "font": {
           "color": "#2a3f5f"
          },
          "geo": {
           "bgcolor": "white",
           "lakecolor": "white",
           "landcolor": "#E5ECF6",
           "showlakes": true,
           "showland": true,
           "subunitcolor": "white"
          },
          "hoverlabel": {
           "align": "left"
          },
          "hovermode": "closest",
          "mapbox": {
           "style": "light"
          },
          "paper_bgcolor": "white",
          "plot_bgcolor": "#E5ECF6",
          "polar": {
           "angularaxis": {
            "gridcolor": "white",
            "linecolor": "white",
            "ticks": ""
           },
           "bgcolor": "#E5ECF6",
           "radialaxis": {
            "gridcolor": "white",
            "linecolor": "white",
            "ticks": ""
           }
          },
          "scene": {
           "xaxis": {
            "backgroundcolor": "#E5ECF6",
            "gridcolor": "white",
            "gridwidth": 2,
            "linecolor": "white",
            "showbackground": true,
            "ticks": "",
            "zerolinecolor": "white"
           },
           "yaxis": {
            "backgroundcolor": "#E5ECF6",
            "gridcolor": "white",
            "gridwidth": 2,
            "linecolor": "white",
            "showbackground": true,
            "ticks": "",
            "zerolinecolor": "white"
           },
           "zaxis": {
            "backgroundcolor": "#E5ECF6",
            "gridcolor": "white",
            "gridwidth": 2,
            "linecolor": "white",
            "showbackground": true,
            "ticks": "",
            "zerolinecolor": "white"
           }
          },
          "shapedefaults": {
           "line": {
            "color": "#2a3f5f"
           }
          },
          "ternary": {
           "aaxis": {
            "gridcolor": "white",
            "linecolor": "white",
            "ticks": ""
           },
           "baxis": {
            "gridcolor": "white",
            "linecolor": "white",
            "ticks": ""
           },
           "bgcolor": "#E5ECF6",
           "caxis": {
            "gridcolor": "white",
            "linecolor": "white",
            "ticks": ""
           }
          },
          "title": {
           "x": 0.05
          },
          "xaxis": {
           "automargin": true,
           "gridcolor": "white",
           "linecolor": "white",
           "ticks": "",
           "title": {
            "standoff": 15
           },
           "zerolinecolor": "white",
           "zerolinewidth": 2
          },
          "yaxis": {
           "automargin": true,
           "gridcolor": "white",
           "linecolor": "white",
           "ticks": "",
           "title": {
            "standoff": 15
           },
           "zerolinecolor": "white",
           "zerolinewidth": 2
          }
         }
        },
        "title": {
         "font": {
          "family": "calibri",
          "size": 30
         },
         "text": "Exporting countries - Legend",
         "x": 0.5,
         "y": 0.95
        },
        "width": 1000
       }
      }
     },
     "metadata": {},
     "output_type": "display_data"
    },
    {
     "data": {
      "image/png": "[encoded data removed]",
      "text/plain": [
       "<Figure size 1800x500 with 2 Axes>"
      ]
     },
     "metadata": {},
     "output_type": "display_data"
    },
    {
     "data": {
      "application/vnd.plotly.v1+json": {
       "config": {
        "plotlyServerURL": "https://plot.ly"
       },
       "data": [
        {
         "domain": {
          "x": [
           0,
           1
          ],
          "y": [
           0,
           1
          ]
         },
         "hovertemplate": "Purpose=%{label}<br>Volume=%{value}<extra></extra>",
         "labels": [
          "Commercial",
          "Medical",
          "unknown",
          "Scientific",
          "Breeding in captivity or artificial propagation",
          "Reintroduction or introduction into the wild",
          "Personal",
          "Hunting trophy",
          "Zoo",
          "Circus or travelling exhibition",
          "Educational",
          "Law enforcement/judicial/forensic",
          "Botanical garden"
         ],
         "legendgroup": "",
         "name": "",
         "showlegend": true,
         "textinfo": "percent+label",
         "textposition": "inside",
         "type": "pie",
         "values": [
          2296176414.576013,
          378527776.1253889,
          362323912.15399307,
          20829788.34566896,
          8767913.974680003,
          6274329.813000001,
          3915382.125306964,
          3141776.846675162,
          874779.6112277784,
          347742.07685333455,
          150903.78073600002,
          122492.03027,
          352
         ]
        }
       ],
       "layout": {
        "legend": {
         "tracegroupgap": 0
        },
        "template": {
         "data": {
          "bar": [
           {
            "error_x": {
             "color": "#2a3f5f"
            },
            "error_y": {
             "color": "#2a3f5f"
            },
            "marker": {
             "line": {
              "color": "#E5ECF6",
              "width": 0.5
             },
             "pattern": {
              "fillmode": "overlay",
              "size": 10,
              "solidity": 0.2
             }
            },
            "type": "bar"
           }
          ],
          "barpolar": [
           {
            "marker": {
             "line": {
              "color": "#E5ECF6",
              "width": 0.5
             },
             "pattern": {
              "fillmode": "overlay",
              "size": 10,
              "solidity": 0.2
             }
            },
            "type": "barpolar"
           }
          ],
          "carpet": [
           {
            "aaxis": {
             "endlinecolor": "#2a3f5f",
             "gridcolor": "white",
             "linecolor": "white",
             "minorgridcolor": "white",
             "startlinecolor": "#2a3f5f"
            },
            "baxis": {
             "endlinecolor": "#2a3f5f",
             "gridcolor": "white",
             "linecolor": "white",
             "minorgridcolor": "white",
             "startlinecolor": "#2a3f5f"
            },
            "type": "carpet"
           }
          ],
          "choropleth": [
           {
            "colorbar": {
             "outlinewidth": 0,
             "ticks": ""
            },
            "type": "choropleth"
           }
          ],
          "contour": [
           {
            "colorbar": {
             "outlinewidth": 0,
             "ticks": ""
            },
            "colorscale": [
             [
              0,
              "#0d0887"
             ],
             [
              0.1111111111111111,
              "#46039f"
             ],
             [
              0.2222222222222222,
              "#7201a8"
             ],
             [
              0.3333333333333333,
              "#9c179e"
             ],
             [
              0.4444444444444444,
              "#bd3786"
             ],
             [
              0.5555555555555556,
              "#d8576b"
             ],
             [
              0.6666666666666666,
              "#ed7953"
             ],
             [
              0.7777777777777778,
              "#fb9f3a"
             ],
             [
              0.8888888888888888,
              "#fdca26"
             ],
             [
              1,
              "#f0f921"
             ]
            ],
            "type": "contour"
           }
          ],
          "contourcarpet": [
           {
            "colorbar": {
             "outlinewidth": 0,
             "ticks": ""
            },
            "type": "contourcarpet"
           }
          ],
          "heatmap": [
           {
            "colorbar": {
             "outlinewidth": 0,
             "ticks": ""
            },
            "colorscale": [
             [
              0,
              "#0d0887"
             ],
             [
              0.1111111111111111,
              "#46039f"
             ],
             [
              0.2222222222222222,
              "#7201a8"
             ],
             [
              0.3333333333333333,
              "#9c179e"
             ],
             [
              0.4444444444444444,
              "#bd3786"
             ],
             [
              0.5555555555555556,
              "#d8576b"
             ],
             [
              0.6666666666666666,
              "#ed7953"
             ],
             [
              0.7777777777777778,
              "#fb9f3a"
             ],
             [
              0.8888888888888888,
              "#fdca26"
             ],
             [
              1,
              "#f0f921"
             ]
            ],
            "type": "heatmap"
           }
          ],
          "heatmapgl": [
           {
            "colorbar": {
             "outlinewidth": 0,
             "ticks": ""
            },
            "colorscale": [
             [
              0,
              "#0d0887"
             ],
             [
              0.1111111111111111,
              "#46039f"
             ],
             [
              0.2222222222222222,
              "#7201a8"
             ],
             [
              0.3333333333333333,
              "#9c179e"
             ],
             [
              0.4444444444444444,
              "#bd3786"
             ],
             [
              0.5555555555555556,
              "#d8576b"
             ],
             [
              0.6666666666666666,
              "#ed7953"
             ],
             [
              0.7777777777777778,
              "#fb9f3a"
             ],
             [
              0.8888888888888888,
              "#fdca26"
             ],
             [
              1,
              "#f0f921"
             ]
            ],
            "type": "heatmapgl"
           }
          ],
          "histogram": [
           {
            "marker": {
             "pattern": {
              "fillmode": "overlay",
              "size": 10,
              "solidity": 0.2
             }
            },
            "type": "histogram"
           }
          ],
          "histogram2d": [
           {
            "colorbar": {
             "outlinewidth": 0,
             "ticks": ""
            },
            "colorscale": [
             [
              0,
              "#0d0887"
             ],
             [
              0.1111111111111111,
              "#46039f"
             ],
             [
              0.2222222222222222,
              "#7201a8"
             ],
             [
              0.3333333333333333,
              "#9c179e"
             ],
             [
              0.4444444444444444,
              "#bd3786"
             ],
             [
              0.5555555555555556,
              "#d8576b"
             ],
             [
              0.6666666666666666,
              "#ed7953"
             ],
             [
              0.7777777777777778,
              "#fb9f3a"
             ],
             [
              0.8888888888888888,
              "#fdca26"
             ],
             [
              1,
              "#f0f921"
             ]
            ],
            "type": "histogram2d"
           }
          ],
          "histogram2dcontour": [
           {
            "colorbar": {
             "outlinewidth": 0,
             "ticks": ""
            },
            "colorscale": [
             [
              0,
              "#0d0887"
             ],
             [
              0.1111111111111111,
              "#46039f"
             ],
             [
              0.2222222222222222,
              "#7201a8"
             ],
             [
              0.3333333333333333,
              "#9c179e"
             ],
             [
              0.4444444444444444,
              "#bd3786"
             ],
             [
              0.5555555555555556,
              "#d8576b"
             ],
             [
              0.6666666666666666,
              "#ed7953"
             ],
             [
              0.7777777777777778,
              "#fb9f3a"
             ],
             [
              0.8888888888888888,
              "#fdca26"
             ],
             [
              1,
              "#f0f921"
             ]
            ],
            "type": "histogram2dcontour"
           }
          ],
          "mesh3d": [
           {
            "colorbar": {
             "outlinewidth": 0,
             "ticks": ""
            },
            "type": "mesh3d"
           }
          ],
          "parcoords": [
           {
            "line": {
             "colorbar": {
              "outlinewidth": 0,
              "ticks": ""
             }
            },
            "type": "parcoords"
           }
          ],
          "pie": [
           {
            "automargin": true,
            "type": "pie"
           }
          ],
          "scatter": [
           {
            "fillpattern": {
             "fillmode": "overlay",
             "size": 10,
             "solidity": 0.2
            },
            "type": "scatter"
           }
          ],
          "scatter3d": [
           {
            "line": {
             "colorbar": {
              "outlinewidth": 0,
              "ticks": ""
             }
            },
            "marker": {
             "colorbar": {
              "outlinewidth": 0,
              "ticks": ""
             }
            },
            "type": "scatter3d"
           }
          ],
          "scattercarpet": [
           {
            "marker": {
             "colorbar": {
              "outlinewidth": 0,
              "ticks": ""
             }
            },
            "type": "scattercarpet"
           }
          ],
          "scattergeo": [
           {
            "marker": {
             "colorbar": {
              "outlinewidth": 0,
              "ticks": ""
             }
            },
            "type": "scattergeo"
           }
          ],
          "scattergl": [
           {
            "marker": {
             "colorbar": {
              "outlinewidth": 0,
              "ticks": ""
             }
            },
            "type": "scattergl"
           }
          ],
          "scattermapbox": [
           {
            "marker": {
             "colorbar": {
              "outlinewidth": 0,
              "ticks": ""
             }
            },
            "type": "scattermapbox"
           }
          ],
          "scatterpolar": [
           {
            "marker": {
             "colorbar": {
              "outlinewidth": 0,
              "ticks": ""
             }
            },
            "type": "scatterpolar"
           }
          ],
          "scatterpolargl": [
           {
            "marker": {
             "colorbar": {
              "outlinewidth": 0,
              "ticks": ""
             }
            },
            "type": "scatterpolargl"
           }
          ],
          "scatterternary": [
           {
            "marker": {
             "colorbar": {
              "outlinewidth": 0,
              "ticks": ""
             }
            },
            "type": "scatterternary"
           }
          ],
          "surface": [
           {
            "colorbar": {
             "outlinewidth": 0,
             "ticks": ""
            },
            "colorscale": [
             [
              0,
              "#0d0887"
             ],
             [
              0.1111111111111111,
              "#46039f"
             ],
             [
              0.2222222222222222,
              "#7201a8"
             ],
             [
              0.3333333333333333,
              "#9c179e"
             ],
             [
              0.4444444444444444,
              "#bd3786"
             ],
             [
              0.5555555555555556,
              "#d8576b"
             ],
             [
              0.6666666666666666,
              "#ed7953"
             ],
             [
              0.7777777777777778,
              "#fb9f3a"
             ],
             [
              0.8888888888888888,
              "#fdca26"
             ],
             [
              1,
              "#f0f921"
             ]
            ],
            "type": "surface"
           }
          ],
          "table": [
           {
            "cells": {
             "fill": {
              "color": "#EBF0F8"
             },
             "line": {
              "color": "white"
             }
            },
            "header": {
             "fill": {
              "color": "#C8D4E3"
             },
             "line": {
              "color": "white"
             }
            },
            "type": "table"
           }
          ]
         },
         "layout": {
          "annotationdefaults": {
           "arrowcolor": "#2a3f5f",
           "arrowhead": 0,
           "arrowwidth": 1
          },
          "autotypenumbers": "strict",
          "coloraxis": {
           "colorbar": {
            "outlinewidth": 0,
            "ticks": ""
           }
          },
          "colorscale": {
           "diverging": [
            [
             0,
             "#8e0152"
            ],
            [
             0.1,
             "#c51b7d"
            ],
            [
             0.2,
             "#de77ae"
            ],
            [
             0.3,
             "#f1b6da"
            ],
            [
             0.4,
             "#fde0ef"
            ],
            [
             0.5,
             "#f7f7f7"
            ],
            [
             0.6,
             "#e6f5d0"
            ],
            [
             0.7,
             "#b8e186"
            ],
            [
             0.8,
             "#7fbc41"
            ],
            [
             0.9,
             "#4d9221"
            ],
            [
             1,
             "#276419"
            ]
           ],
           "sequential": [
            [
             0,
             "#0d0887"
            ],
            [
             0.1111111111111111,
             "#46039f"
            ],
            [
             0.2222222222222222,
             "#7201a8"
            ],
            [
             0.3333333333333333,
             "#9c179e"
            ],
            [
             0.4444444444444444,
             "#bd3786"
            ],
            [
             0.5555555555555556,
             "#d8576b"
            ],
            [
             0.6666666666666666,
             "#ed7953"
            ],
            [
             0.7777777777777778,
             "#fb9f3a"
            ],
            [
             0.8888888888888888,
             "#fdca26"
            ],
            [
             1,
             "#f0f921"
            ]
           ],
           "sequentialminus": [
            [
             0,
             "#0d0887"
            ],
            [
             0.1111111111111111,
             "#46039f"
            ],
            [
             0.2222222222222222,
             "#7201a8"
            ],
            [
             0.3333333333333333,
             "#9c179e"
            ],
            [
             0.4444444444444444,
             "#bd3786"
            ],
            [
             0.5555555555555556,
             "#d8576b"
            ],
            [
             0.6666666666666666,
             "#ed7953"
            ],
            [
             0.7777777777777778,
             "#fb9f3a"
            ],
            [
             0.8888888888888888,
             "#fdca26"
            ],
            [
             1,
             "#f0f921"
            ]
           ]
          },
          "colorway": [
           "#636efa",
           "#EF553B",
           "#00cc96",
           "#ab63fa",
           "#FFA15A",
           "#19d3f3",
           "#FF6692",
           "#B6E880",
           "#FF97FF",
           "#FECB52"
          ],
          "font": {
           "color": "#2a3f5f"
          },
          "geo": {
           "bgcolor": "white",
           "lakecolor": "white",
           "landcolor": "#E5ECF6",
           "showlakes": true,
           "showland": true,
           "subunitcolor": "white"
          },
          "hoverlabel": {
           "align": "left"
          },
          "hovermode": "closest",
          "mapbox": {
           "style": "light"
          },
          "paper_bgcolor": "white",
          "plot_bgcolor": "#E5ECF6",
          "polar": {
           "angularaxis": {
            "gridcolor": "white",
            "linecolor": "white",
            "ticks": ""
           },
           "bgcolor": "#E5ECF6",
           "radialaxis": {
            "gridcolor": "white",
            "linecolor": "white",
            "ticks": ""
           }
          },
          "scene": {
           "xaxis": {
            "backgroundcolor": "#E5ECF6",
            "gridcolor": "white",
            "gridwidth": 2,
            "linecolor": "white",
            "showbackground": true,
            "ticks": "",
            "zerolinecolor": "white"
           },
           "yaxis": {
            "backgroundcolor": "#E5ECF6",
            "gridcolor": "white",
            "gridwidth": 2,
            "linecolor": "white",
            "showbackground": true,
            "ticks": "",
            "zerolinecolor": "white"
           },
           "zaxis": {
            "backgroundcolor": "#E5ECF6",
            "gridcolor": "white",
            "gridwidth": 2,
            "linecolor": "white",
            "showbackground": true,
            "ticks": "",
            "zerolinecolor": "white"
           }
          },
          "shapedefaults": {
           "line": {
            "color": "#2a3f5f"
           }
          },
          "ternary": {
           "aaxis": {
            "gridcolor": "white",
            "linecolor": "white",
            "ticks": ""
           },
           "baxis": {
            "gridcolor": "white",
            "linecolor": "white",
            "ticks": ""
           },
           "bgcolor": "#E5ECF6",
           "caxis": {
            "gridcolor": "white",
            "linecolor": "white",
            "ticks": ""
           }
          },
          "title": {
           "x": 0.05
          },
          "xaxis": {
           "automargin": true,
           "gridcolor": "white",
           "linecolor": "white",
           "ticks": "",
           "title": {
            "standoff": 15
           },
           "zerolinecolor": "white",
           "zerolinewidth": 2
          },
          "yaxis": {
           "automargin": true,
           "gridcolor": "white",
           "linecolor": "white",
           "ticks": "",
           "title": {
            "standoff": 15
           },
           "zerolinecolor": "white",
           "zerolinewidth": 2
          }
         }
        },
        "title": {
         "text": "Trading purposes share"
        }
       }
      }
     },
     "metadata": {},
     "output_type": "display_data"
    },
    {
     "data": {
      "image/png": "[encoded data removed]",
      "text/plain": [
       "<Figure size 2000x1000 with 1 Axes>"
      ]
     },
     "metadata": {},
     "output_type": "display_data"
    },
    {
     "data": {
      "application/vnd.plotly.v1+json": {
       "config": {
        "plotlyServerURL": "https://plot.ly"
       },
       "data": [
        {
         "lat": [
          -38.416097,
          35.86166,
          -16.578193,
          46.227638,
          22.396428,
          20.593684,
          -0.789275,
          41.87194,
          35.907757
         ],
         "locationmode": "country names",
         "lon": [
          -63.616672,
          104.195397,
          179.414413,
          2.213749,
          114.109497,
          78.96288,
          113.921327,
          12.56738,
          127.766922
         ],
         "marker": {
          "color": "black",
          "size": [
           5.93735150205,
           34.064530557132386,
           4.337718278011,
           12.43410880752913,
           11.032595417794584,
           36.000395336000004,
           6.18266225662225,
           4.058629693957278,
           9.67843700238368
          ]
         },
         "mode": "markers",
         "type": "scattergeo"
        },
        {
         "lat": [
          28.033886,
          35.86166,
          26.820553,
          22.396428,
          36.204824,
          61.52401,
          46.818188,
          37.09024
         ],
         "locationmode": "country names",
         "lon": [
          1.659626,
          104.195397,
          30.802498,
          114.109497,
          138.252924,
          105.318756,
          8.227512,
          -95.712891
         ],
         "marker": {
          "color": "green",
          "size": [
           8.000000768000001,
           18.11091779136453,
           24.000072068,
           13.12420196526,
           16.710613228918398,
           4.0003225,
           4.001628018548282,
           35.778672511389104
          ]
         },
         "mode": "markers",
         "type": "scattergeo"
        },
        {
         "lat": [
          20.593684,
          26.820553
         ],
         "line": {
          "color": "black",
          "width": 1
         },
         "locationmode": "country names",
         "lon": [
          78.96288,
          30.802498
         ],
         "mode": "lines",
         "type": "scattergeo"
        },
        {
         "lat": [
          35.86166,
          22.396428
         ],
         "line": {
          "color": "black",
          "width": 1
         },
         "locationmode": "country names",
         "lon": [
          104.195397,
          114.109497
         ],
         "mode": "lines",
         "type": "scattergeo"
        },
        {
         "lat": [
          35.86166,
          36.204824
         ],
         "line": {
          "color": "black",
          "width": 1
         },
         "locationmode": "country names",
         "lon": [
          104.195397,
          138.252924
         ],
         "mode": "lines",
         "type": "scattergeo"
        },
        {
         "lat": [
          35.907757,
          35.86166
         ],
         "line": {
          "color": "black",
          "width": 1
         },
         "locationmode": "country names",
         "lon": [
          127.766922,
          104.195397
         ],
         "mode": "lines",
         "type": "scattergeo"
        },
        {
         "lat": [
          46.227638,
          35.86166
         ],
         "line": {
          "color": "black",
          "width": 1
         },
         "locationmode": "country names",
         "lon": [
          2.213749,
          104.195397
         ],
         "mode": "lines",
         "type": "scattergeo"
        },
        {
         "lat": [
          35.86166,
          37.09024
         ],
         "line": {
          "color": "black",
          "width": 1
         },
         "locationmode": "country names",
         "lon": [
          104.195397,
          -95.712891
         ],
         "mode": "lines",
         "type": "scattergeo"
        },
        {
         "lat": [
          20.593684,
          28.033886
         ],
         "line": {
          "color": "black",
          "width": 1
         },
         "locationmode": "country names",
         "lon": [
          78.96288,
          1.659626
         ],
         "mode": "lines",
         "type": "scattergeo"
        },
        {
         "lat": [
          22.396428,
          37.09024
         ],
         "line": {
          "color": "black",
          "width": 1
         },
         "locationmode": "country names",
         "lon": [
          114.109497,
          -95.712891
         ],
         "mode": "lines",
         "type": "scattergeo"
        },
        {
         "lat": [
          -0.789275,
          37.09024
         ],
         "line": {
          "color": "black",
          "width": 1
         },
         "locationmode": "country names",
         "lon": [
          113.921327,
          -95.712891
         ],
         "mode": "lines",
         "type": "scattergeo"
        },
        {
         "lat": [
          -38.416097,
          37.09024
         ],
         "line": {
          "color": "black",
          "width": 1
         },
         "locationmode": "country names",
         "lon": [
          -63.616672,
          -95.712891
         ],
         "mode": "lines",
         "type": "scattergeo"
        },
        {
         "lat": [
          -16.578193,
          37.09024
         ],
         "line": {
          "color": "black",
          "width": 1
         },
         "locationmode": "country names",
         "lon": [
          179.414413,
          -95.712891
         ],
         "mode": "lines",
         "type": "scattergeo"
        },
        {
         "lat": [
          41.87194,
          37.09024
         ],
         "line": {
          "color": "black",
          "width": 1
         },
         "locationmode": "country names",
         "lon": [
          12.56738,
          -95.712891
         ],
         "mode": "lines",
         "type": "scattergeo"
        },
        {
         "lat": [
          46.227638,
          46.818188
         ],
         "line": {
          "color": "black",
          "width": 1
         },
         "locationmode": "country names",
         "lon": [
          2.213749,
          8.227512
         ],
         "mode": "lines",
         "type": "scattergeo"
        },
        {
         "lat": [
          20.593684,
          61.52401
         ],
         "line": {
          "color": "black",
          "width": 1
         },
         "locationmode": "country names",
         "lon": [
          78.96288,
          105.318756
         ],
         "mode": "lines",
         "type": "scattergeo"
        },
        {
         "lat": [
          22.396428,
          36.204824
         ],
         "line": {
          "color": "black",
          "width": 1
         },
         "locationmode": "country names",
         "lon": [
          114.109497,
          138.252924
         ],
         "mode": "lines",
         "type": "scattergeo"
        }
       ],
       "layout": {
        "autosize": false,
        "geo": {
         "scope": "world"
        },
        "height": 600,
        "margin": {
         "b": 20,
         "l": 20,
         "r": 20,
         "t": 50
        },
        "showlegend": false,
        "template": {
         "data": {
          "bar": [
           {
            "error_x": {
             "color": "#2a3f5f"
            },
            "error_y": {
             "color": "#2a3f5f"
            },
            "marker": {
             "line": {
              "color": "#E5ECF6",
              "width": 0.5
             },
             "pattern": {
              "fillmode": "overlay",
              "size": 10,
              "solidity": 0.2
             }
            },
            "type": "bar"
           }
          ],
          "barpolar": [
           {
            "marker": {
             "line": {
              "color": "#E5ECF6",
              "width": 0.5
             },
             "pattern": {
              "fillmode": "overlay",
              "size": 10,
              "solidity": 0.2
             }
            },
            "type": "barpolar"
           }
          ],
          "carpet": [
           {
            "aaxis": {
             "endlinecolor": "#2a3f5f",
             "gridcolor": "white",
             "linecolor": "white",
             "minorgridcolor": "white",
             "startlinecolor": "#2a3f5f"
            },
            "baxis": {
             "endlinecolor": "#2a3f5f",
             "gridcolor": "white",
             "linecolor": "white",
             "minorgridcolor": "white",
             "startlinecolor": "#2a3f5f"
            },
            "type": "carpet"
           }
          ],
          "choropleth": [
           {
            "colorbar": {
             "outlinewidth": 0,
             "ticks": ""
            },
            "type": "choropleth"
           }
          ],
          "contour": [
           {
            "colorbar": {
             "outlinewidth": 0,
             "ticks": ""
            },
            "colorscale": [
             [
              0,
              "#0d0887"
             ],
             [
              0.1111111111111111,
              "#46039f"
             ],
             [
              0.2222222222222222,
              "#7201a8"
             ],
             [
              0.3333333333333333,
              "#9c179e"
             ],
             [
              0.4444444444444444,
              "#bd3786"
             ],
             [
              0.5555555555555556,
              "#d8576b"
             ],
             [
              0.6666666666666666,
              "#ed7953"
             ],
             [
              0.7777777777777778,
              "#fb9f3a"
             ],
             [
              0.8888888888888888,
              "#fdca26"
             ],
             [
              1,
              "#f0f921"
             ]
            ],
            "type": "contour"
           }
          ],
          "contourcarpet": [
           {
            "colorbar": {
             "outlinewidth": 0,
             "ticks": ""
            },
            "type": "contourcarpet"
           }
          ],
          "heatmap": [
           {
            "colorbar": {
             "outlinewidth": 0,
             "ticks": ""
            },
            "colorscale": [
             [
              0,
              "#0d0887"
             ],
             [
              0.1111111111111111,
              "#46039f"
             ],
             [
              0.2222222222222222,
              "#7201a8"
             ],
             [
              0.3333333333333333,
              "#9c179e"
             ],
             [
              0.4444444444444444,
              "#bd3786"
             ],
             [
              0.5555555555555556,
              "#d8576b"
             ],
             [
              0.6666666666666666,
              "#ed7953"
             ],
             [
              0.7777777777777778,
              "#fb9f3a"
             ],
             [
              0.8888888888888888,
              "#fdca26"
             ],
             [
              1,
              "#f0f921"
             ]
            ],
            "type": "heatmap"
           }
          ],
          "heatmapgl": [
           {
            "colorbar": {
             "outlinewidth": 0,
             "ticks": ""
            },
            "colorscale": [
             [
              0,
              "#0d0887"
             ],
             [
              0.1111111111111111,
              "#46039f"
             ],
             [
              0.2222222222222222,
              "#7201a8"
             ],
             [
              0.3333333333333333,
              "#9c179e"
             ],
             [
              0.4444444444444444,
              "#bd3786"
             ],
             [
              0.5555555555555556,
              "#d8576b"
             ],
             [
              0.6666666666666666,
              "#ed7953"
             ],
             [
              0.7777777777777778,
              "#fb9f3a"
             ],
             [
              0.8888888888888888,
              "#fdca26"
             ],
             [
              1,
              "#f0f921"
             ]
            ],
            "type": "heatmapgl"
           }
          ],
          "histogram": [
           {
            "marker": {
             "pattern": {
              "fillmode": "overlay",
              "size": 10,
              "solidity": 0.2
             }
            },
            "type": "histogram"
           }
          ],
          "histogram2d": [
           {
            "colorbar": {
             "outlinewidth": 0,
             "ticks": ""
            },
            "colorscale": [
             [
              0,
              "#0d0887"
             ],
             [
              0.1111111111111111,
              "#46039f"
             ],
             [
              0.2222222222222222,
              "#7201a8"
             ],
             [
              0.3333333333333333,
              "#9c179e"
             ],
             [
              0.4444444444444444,
              "#bd3786"
             ],
             [
              0.5555555555555556,
              "#d8576b"
             ],
             [
              0.6666666666666666,
              "#ed7953"
             ],
             [
              0.7777777777777778,
              "#fb9f3a"
             ],
             [
              0.8888888888888888,
              "#fdca26"
             ],
             [
              1,
              "#f0f921"
             ]
            ],
            "type": "histogram2d"
           }
          ],
          "histogram2dcontour": [
           {
            "colorbar": {
             "outlinewidth": 0,
             "ticks": ""
            },
            "colorscale": [
             [
              0,
              "#0d0887"
             ],
             [
              0.1111111111111111,
              "#46039f"
             ],
             [
              0.2222222222222222,
              "#7201a8"
             ],
             [
              0.3333333333333333,
              "#9c179e"
             ],
             [
              0.4444444444444444,
              "#bd3786"
             ],
             [
              0.5555555555555556,
              "#d8576b"
             ],
             [
              0.6666666666666666,
              "#ed7953"
             ],
             [
              0.7777777777777778,
              "#fb9f3a"
             ],
             [
              0.8888888888888888,
              "#fdca26"
             ],
             [
              1,
              "#f0f921"
             ]
            ],
            "type": "histogram2dcontour"
           }
          ],
          "mesh3d": [
           {
            "colorbar": {
             "outlinewidth": 0,
             "ticks": ""
            },
            "type": "mesh3d"
           }
          ],
          "parcoords": [
           {
            "line": {
             "colorbar": {
              "outlinewidth": 0,
              "ticks": ""
             }
            },
            "type": "parcoords"
           }
          ],
          "pie": [
           {
            "automargin": true,
            "type": "pie"
           }
          ],
          "scatter": [
           {
            "fillpattern": {
             "fillmode": "overlay",
             "size": 10,
             "solidity": 0.2
            },
            "type": "scatter"
           }
          ],
          "scatter3d": [
           {
            "line": {
             "colorbar": {
              "outlinewidth": 0,
              "ticks": ""
             }
            },
            "marker": {
             "colorbar": {
              "outlinewidth": 0,
              "ticks": ""
             }
            },
            "type": "scatter3d"
           }
          ],
          "scattercarpet": [
           {
            "marker": {
             "colorbar": {
              "outlinewidth": 0,
              "ticks": ""
             }
            },
            "type": "scattercarpet"
           }
          ],
          "scattergeo": [
           {
            "marker": {
             "colorbar": {
              "outlinewidth": 0,
              "ticks": ""
             }
            },
            "type": "scattergeo"
           }
          ],
          "scattergl": [
           {
            "marker": {
             "colorbar": {
              "outlinewidth": 0,
              "ticks": ""
             }
            },
            "type": "scattergl"
           }
          ],
          "scattermapbox": [
           {
            "marker": {
             "colorbar": {
              "outlinewidth": 0,
              "ticks": ""
             }
            },
            "type": "scattermapbox"
           }
          ],
          "scatterpolar": [
           {
            "marker": {
             "colorbar": {
              "outlinewidth": 0,
              "ticks": ""
             }
            },
            "type": "scatterpolar"
           }
          ],
          "scatterpolargl": [
           {
            "marker": {
             "colorbar": {
              "outlinewidth": 0,
              "ticks": ""
             }
            },
            "type": "scatterpolargl"
           }
          ],
          "scatterternary": [
           {
            "marker": {
             "colorbar": {
              "outlinewidth": 0,
              "ticks": ""
             }
            },
            "type": "scatterternary"
           }
          ],
          "surface": [
           {
            "colorbar": {
             "outlinewidth": 0,
             "ticks": ""
            },
            "colorscale": [
             [
              0,
              "#0d0887"
             ],
             [
              0.1111111111111111,
              "#46039f"
             ],
             [
              0.2222222222222222,
              "#7201a8"
             ],
             [
              0.3333333333333333,
              "#9c179e"
             ],
             [
              0.4444444444444444,
              "#bd3786"
             ],
             [
              0.5555555555555556,
              "#d8576b"
             ],
             [
              0.6666666666666666,
              "#ed7953"
             ],
             [
              0.7777777777777778,
              "#fb9f3a"
             ],
             [
              0.8888888888888888,
              "#fdca26"
             ],
             [
              1,
              "#f0f921"
             ]
            ],
            "type": "surface"
           }
          ],
          "table": [
           {
            "cells": {
             "fill": {
              "color": "#EBF0F8"
             },
             "line": {
              "color": "white"
             }
            },
            "header": {
             "fill": {
              "color": "#C8D4E3"
             },
             "line": {
              "color": "white"
             }
            },
            "type": "table"
           }
          ]
         },
         "layout": {
          "annotationdefaults": {
           "arrowcolor": "#2a3f5f",
           "arrowhead": 0,
           "arrowwidth": 1
          },
          "autotypenumbers": "strict",
          "coloraxis": {
           "colorbar": {
            "outlinewidth": 0,
            "ticks": ""
           }
          },
          "colorscale": {
           "diverging": [
            [
             0,
             "#8e0152"
            ],
            [
             0.1,
             "#c51b7d"
            ],
            [
             0.2,
             "#de77ae"
            ],
            [
             0.3,
             "#f1b6da"
            ],
            [
             0.4,
             "#fde0ef"
            ],
            [
             0.5,
             "#f7f7f7"
            ],
            [
             0.6,
             "#e6f5d0"
            ],
            [
             0.7,
             "#b8e186"
            ],
            [
             0.8,
             "#7fbc41"
            ],
            [
             0.9,
             "#4d9221"
            ],
            [
             1,
             "#276419"
            ]
           ],
           "sequential": [
            [
             0,
             "#0d0887"
            ],
            [
             0.1111111111111111,
             "#46039f"
            ],
            [
             0.2222222222222222,
             "#7201a8"
            ],
            [
             0.3333333333333333,
             "#9c179e"
            ],
            [
             0.4444444444444444,
             "#bd3786"
            ],
            [
             0.5555555555555556,
             "#d8576b"
            ],
            [
             0.6666666666666666,
             "#ed7953"
            ],
            [
             0.7777777777777778,
             "#fb9f3a"
            ],
            [
             0.8888888888888888,
             "#fdca26"
            ],
            [
             1,
             "#f0f921"
            ]
           ],
           "sequentialminus": [
            [
             0,
             "#0d0887"
            ],
            [
             0.1111111111111111,
             "#46039f"
            ],
            [
             0.2222222222222222,
             "#7201a8"
            ],
            [
             0.3333333333333333,
             "#9c179e"
            ],
            [
             0.4444444444444444,
             "#bd3786"
            ],
            [
             0.5555555555555556,
             "#d8576b"
            ],
            [
             0.6666666666666666,
             "#ed7953"
            ],
            [
             0.7777777777777778,
             "#fb9f3a"
            ],
            [
             0.8888888888888888,
             "#fdca26"
            ],
            [
             1,
             "#f0f921"
            ]
           ]
          },
          "colorway": [
           "#636efa",
           "#EF553B",
           "#00cc96",
           "#ab63fa",
           "#FFA15A",
           "#19d3f3",
           "#FF6692",
           "#B6E880",
           "#FF97FF",
           "#FECB52"
          ],
          "font": {
           "color": "#2a3f5f"
          },
          "geo": {
           "bgcolor": "white",
           "lakecolor": "white",
           "landcolor": "#E5ECF6",
           "showlakes": true,
           "showland": true,
           "subunitcolor": "white"
          },
          "hoverlabel": {
           "align": "left"
          },
          "hovermode": "closest",
          "mapbox": {
           "style": "light"
          },
          "paper_bgcolor": "white",
          "plot_bgcolor": "#E5ECF6",
          "polar": {
           "angularaxis": {
            "gridcolor": "white",
            "linecolor": "white",
            "ticks": ""
           },
           "bgcolor": "#E5ECF6",
           "radialaxis": {
            "gridcolor": "white",
            "linecolor": "white",
            "ticks": ""
           }
          },
          "scene": {
           "xaxis": {
            "backgroundcolor": "#E5ECF6",
            "gridcolor": "white",
            "gridwidth": 2,
            "linecolor": "white",
            "showbackground": true,
            "ticks": "",
            "zerolinecolor": "white"
           },
           "yaxis": {
            "backgroundcolor": "#E5ECF6",
            "gridcolor": "white",
            "gridwidth": 2,
            "linecolor": "white",
            "showbackground": true,
            "ticks": "",
            "zerolinecolor": "white"
           },
           "zaxis": {
            "backgroundcolor": "#E5ECF6",
            "gridcolor": "white",
            "gridwidth": 2,
            "linecolor": "white",
            "showbackground": true,
            "ticks": "",
            "zerolinecolor": "white"
           }
          },
          "shapedefaults": {
           "line": {
            "color": "#2a3f5f"
           }
          },
          "ternary": {
           "aaxis": {
            "gridcolor": "white",
            "linecolor": "white",
            "ticks": ""
           },
           "baxis": {
            "gridcolor": "white",
            "linecolor": "white",
            "ticks": ""
           },
           "bgcolor": "#E5ECF6",
           "caxis": {
            "gridcolor": "white",
            "linecolor": "white",
            "ticks": ""
           }
          },
          "title": {
           "x": 0.05
          },
          "xaxis": {
           "automargin": true,
           "gridcolor": "white",
           "linecolor": "white",
           "ticks": "",
           "title": {
            "standoff": 15
           },
           "zerolinecolor": "white",
           "zerolinewidth": 2
          },
          "yaxis": {
           "automargin": true,
           "gridcolor": "white",
           "linecolor": "white",
           "ticks": "",
           "title": {
            "standoff": 15
           },
           "zerolinecolor": "white",
           "zerolinewidth": 2
          }
         }
        },
        "title": {
         "font": {
          "family": "calibri",
          "size": 30
         },
         "text": "Common trading routes",
         "x": 0.5,
         "y": 0.95
        },
        "width": 1000
       }
      }
     },
     "metadata": {},
     "output_type": "display_data"
    }
   ],
   "source": [
    "# Visualising Data\n",
    "\n",
    "# 1. Trading volume recorded over years\n",
    "def millions_formatter(x, pos):\n",
    "    return f'{int(x / 1000000)}M'\n",
    "wlcursor.execute('''SELECT Year, SUM(Quantity) AS Volume FROM wild.wild GROUP BY Year''')\n",
    "Table_01 = pd.DataFrame(wlcursor.fetchall(),columns=wlcursor.column_names)\n",
    "fig, ax = plt.subplots(figsize=(18,5))\n",
    "ax.plot(Table_01.Year, Table_01.Volume,color='green',linewidth='2')\n",
    "ax.yaxis.set_major_formatter(FuncFormatter(millions_formatter))\n",
    "plt.title('Trading volume recorded over the years',fontdict={'family':'calibri','size':20})\n",
    "plt.ylabel('Volume',fontdict={'family':'calibri','size':15})\n",
    "plt.xticks(range(1975,2023,1), rotation=60)\n",
    "plt.yticks(range(0,550000000,50000000))\n",
    "plt.grid(axis='y',linestyle='--')\n",
    "plt.show()\n",
    "\n",
    "# 2. Top 15 importing & exporting countries bar chart\n",
    "wlcursor.execute('''SELECT Importer, SUM(Quantity) AS Volume FROM wild.wild GROUP BY Importer ORDER BY Volume DESC LIMIT 15''')\n",
    "Table_02 = pd.DataFrame(wlcursor.fetchall(),columns=wlcursor.column_names)\n",
    "wlcursor.execute('''SELECT Exporter, SUM(Quantity) AS Volume FROM wild.wild GROUP BY Exporter ORDER BY Volume DESC LIMIT 15''')\n",
    "Table_03 = pd.DataFrame(wlcursor.fetchall(),columns=wlcursor.column_names)\n",
    "def millions_formatter(x, pos):\n",
    "    return f'{int(x / 1000000)}M'\n",
    "fig, [ax1, ax2] = plt.subplots(1,2,figsize=(20,5))\n",
    "ax1.barh(Table_02.Importer, Table_02.Volume,color='green')\n",
    "ax2.barh(Table_03.Exporter, Table_03.Volume,color='green')\n",
    "ax1.xaxis.set_major_formatter(FuncFormatter(millions_formatter))\n",
    "ax2.xaxis.set_major_formatter(FuncFormatter(millions_formatter))\n",
    "ax1.title.set_text('Top 15 importing countries')\n",
    "ax2.title.set_text('Top 15 exporting countries')\n",
    "fig.text(0.45, 0.01,'Volume')\n",
    "plt.show()\n",
    "\n",
    "# 3. Importing & exporting countries legend map\n",
    "wlcursor.execute('''SELECT Importer, SUM(Quantity) AS Volume FROM wild.wild GROUP BY Importer''')\n",
    "Table_04 = pd.DataFrame(wlcursor.fetchall(),columns=wlcursor.column_names)\n",
    "wlcursor.execute('''SELECT Exporter, SUM(Quantity) AS Volume FROM wild.wild GROUP BY Exporter''')\n",
    "Table_05 = pd.DataFrame(wlcursor.fetchall(),columns=wlcursor.column_names)\n",
    "nami = {'Importer': 'Namibia', 'Volume': 0}\n",
    "Table_04 = Table_04._append(nami, ignore_index = True)\n",
    "namib = {'Exporter': 'Namibia', 'Volume': 0}\n",
    "Table_05 = Table_05._append(namib, ignore_index = True)\n",
    "fig = px.choropleth(Table_04, locations= 'Importer', locationmode='country names', scope = 'world',\n",
    "                        color= 'Volume', color_continuous_scale= 'speed',\n",
    "                        width =1000, height= 600,hover_name= 'Importer')\n",
    "fig.update_layout(title={'text':'Importing countries - Legend','x':0.5,'y':0.95,'font_family':'calibri','font_size':30})\n",
    "fig.show()\n",
    "fig = px.choropleth(Table_05, locations= 'Exporter', locationmode='country names', scope = 'world',\n",
    "                        color= 'Volume', color_continuous_scale= 'speed',\n",
    "                        width =1000, height= 600,hover_name= 'Exporter')\n",
    "fig.update_layout(title={'text':'Exporting countries - Legend','x':0.5,'y':0.95,'font_family':'calibri','font_size':30})\n",
    "fig.show()\n",
    "\n",
    "# 4. Top species and classes traded\n",
    "wlcursor.execute('''SELECT Taxon, SUM(Quantity) AS Volume from wild.wild GROUP BY Taxon ORDER BY Volume DESC LIMIT 15''')\n",
    "Table_06 = pd.DataFrame(wlcursor.fetchall(),columns=wlcursor.column_names)\n",
    "wlcursor.execute('''SELECT Class, SUM(Quantity) AS Volume from wild.wild GROUP BY Class ORDER BY Volume DESC LIMIT 15''')\n",
    "Table_07 = pd.DataFrame(wlcursor.fetchall(),columns=wlcursor.column_names)\n",
    "# Converting scientific names to common names\n",
    "sp_map = {'Chlorocebus aethiops':'Grivet monkey',\n",
    "          'Loxodonta africana':'African bush elephant',\n",
    "          'Alligator mississippiensis':'American alligator',\n",
    "          'Acipenser baerii':'Siberian sturgeon',\n",
    "          'Scleractinia spp.':'Stony corals',\n",
    "          'Anguilla anguilla':'European eel',\n",
    "          'Varanus salvator':'Asian water monitor',\n",
    "          'Strombus gigas':'Queen conch',\n",
    "          'Varanus niloticus':'Nile monitor',\n",
    "          'Caiman crocodilus fuscus':'Spectacled caiman',\n",
    "          'Salvator merianae':'Argentine black & white tegu',\n",
    "          'Ptyas mucosus':'Oriental rat snake',\n",
    "          'Malayopython reticulatus':'Reticulated python',\n",
    "          'Acipenser gueldenstaedtii':'Russian sturgeon',\n",
    "          'Pavo cristatus':'Indian peafowl'}\n",
    "class_map = {'Reptilia':'Reptiles',\n",
    "             'Mammalia':'Mammals',\n",
    "             'Actinopteri':'Ray-finned fish',\n",
    "             'Anthozoa':'Corals/Sea anemones',\n",
    "             'Aves':'Birds',\n",
    "             'Gastropoda':'Slugs/Snails',\n",
    "             'Amphibia':'Frogs/Salamanders/Caecilians',\n",
    "             'Hirudinoidea':'Leech',\n",
    "             'Elasmobranchii':'Cartilaginous fish',\n",
    "             'Bivalvia':'Molluscs',\n",
    "             'Holothuroidea':'Sea cucumbers',\n",
    "             'Arachnida':'Spiders/Scorpions',\n",
    "             'Insecta':'Insects',\n",
    "             'Hydrozoa':'Jellyfish',\n",
    "             'Cephalopoda':'Squid/Octopus'}\n",
    "Table_06['Common_name'] = Table_06['Taxon'].map(sp_map)\n",
    "Table_07['Common_name'] = Table_07['Class'].map(class_map)\n",
    "def millions_formatter(x, pos):\n",
    "    return f'{int(x / 1000000)}M'\n",
    "fig, [ax1, ax2] = plt.subplots(1,2,figsize=(18,5))\n",
    "ax1.barh(Table_06.Common_name, Table_06.Volume,color='green')\n",
    "ax2.barh(Table_07.Common_name, Table_07.Volume,color='green')\n",
    "ax2.set_xscale('log')\n",
    "ax1.xaxis.set_major_formatter(FuncFormatter(millions_formatter))\n",
    "ax2.xaxis.set_major_formatter(FuncFormatter(millions_formatter))\n",
    "ax1.title.set_text('Top 15 species')\n",
    "ax2.title.set_text('Top 15 classes')\n",
    "fig.text(0.45, 0.01,'Volume')\n",
    "plt. subplots_adjust(wspace=0.4) \n",
    "plt.show()\n",
    "\n",
    "# 5. Purpose - share\n",
    "wlcursor.execute('''SELECT Purpose, SUM(Quantity) AS Volume FROM wild.wild GROUP BY Purpose ORDER BY Volume DESC''')\n",
    "Table_08 = pd.DataFrame(wlcursor.fetchall(),columns=wlcursor.column_names)\n",
    "fig = px.pie(Table_08, values='Volume', names='Purpose', title='Trading purposes share')\n",
    "fig.update_traces(textposition='inside', textinfo='percent+label')\n",
    "fig.show()\n",
    "\n",
    "# 6. Trading forms\n",
    "wlcursor.execute('''SELECT Term, SUM(Quantity) AS Volume FROM wild.wild GROUP BY Term ORDER BY Volume DESC LIMIT 22''')\n",
    "Table_09 = pd.DataFrame(wlcursor.fetchall(),columns=wlcursor.column_names)\n",
    "plt.figure(figsize = (20,10))\n",
    "squarify.plot(sizes=Table_09.Volume, label= Table_09.Term, text_kwargs={'fontsize': 12})\n",
    "plt.axis('off')\n",
    "plt.title('Trading forms of species', fontdict={'family':'calibri','size':25})\n",
    "plt.show()\n",
    "\n",
    "# 7. Common traded routes\n",
    "wlcursor.execute('''SELECT CONCAT(Exporter,'--->', Importer) AS Route,Exporter, Importer, SUM(Quantity) AS Volume FROM wild.wild GROUP BY Route ORDER BY Volume DESC LIMIT 15''')\n",
    "Table_10 = pd.DataFrame(wlcursor.fetchall(),columns=wlcursor.column_names)\n",
    "lat_dct={'China':35.86166,\n",
    "         'India':20.593684,\n",
    "         'Korea, Republic of':35.907757,\n",
    "         'Hong Kong':22.396428,\n",
    "         'France':46.227638,\n",
    "         'Indonesia':-0.789275,\n",
    "         'Egypt':26.820553,\n",
    "         'United States':37.09024,\n",
    "         'Fiji':-16.578193,\n",
    "         'Argentina':-38.416097,\n",
    "         'Italy':41.87194,\n",
    "         'Japan':36.204824,\n",
    "         'Algeria':28.033886,\n",
    "         'Switzerland':46.818188,\n",
    "         'Russia Federation':61.52401}\n",
    "long_dct={'China':104.195397,\n",
    "         'India':78.96288,\n",
    "         'Korea, Republic of':127.766922,\n",
    "         'Hong Kong':114.109497,\n",
    "         'France':2.213749,\n",
    "         'Indonesia':113.921327,\n",
    "         'Egypt':30.802498,\n",
    "         'United States':-95.712891,\n",
    "         'Fiji':179.414413,\n",
    "         'Argentina':-63.616672,\n",
    "         'Italy':12.56738,\n",
    "         'Japan':138.252924,\n",
    "         'Algeria':1.659626,\n",
    "         'Switzerland':8.227512,\n",
    "         'Russia Federation':105.318756}\n",
    "Table_10['lat_ex'] = Table_10['Exporter'].map(lat_dct)\n",
    "Table_10['long_ex'] = Table_10['Exporter'].map(long_dct)\n",
    "Table_10['lat_im'] = Table_10['Importer'].map(lat_dct)\n",
    "Table_10['long_im'] = Table_10['Importer'].map(long_dct)\n",
    "\n",
    "Table_11 = Table_10.groupby(['Exporter']).agg({'Volume':'sum','long_ex':'first','lat_ex':'first'}).reset_index()\n",
    "Table_12 = Table_10.groupby(['Importer']).agg({'Volume':'sum','long_im':'first','lat_im':'first'}).reset_index()\n",
    "\n",
    "fig = go.Figure()\n",
    "fig.add_trace(go.Scattergeo(locationmode = 'country names',\n",
    "    lon = Table_11['long_ex'],lat = Table_11['lat_ex'],\n",
    "    mode = 'markers',marker = dict(size = Table_11.Volume/10000000,color = 'black')))\n",
    "fig.add_trace(go.Scattergeo(locationmode = 'country names',\n",
    "    lon = Table_12['long_im'],lat = Table_12['lat_im'],\n",
    "    mode = 'markers',marker = dict(size = Table_12.Volume/10000000,color = 'green')))\n",
    "for i in range(len(Table_10)):\n",
    "    fig.add_trace(go.Scattergeo(locationmode = 'country names',\n",
    "    lon = [Table_10['long_ex'][i],Table_10['long_im'][i]],\n",
    "    lat = [Table_10['lat_ex'][i],Table_10['lat_im'][i]],mode = 'lines',\n",
    "    line = dict(width = 1,color = 'black')))\n",
    "fig.update_layout(title={'text':'Common trading routes','x':0.5,'y':0.95,'font_family':'calibri','font_size':30})\n",
    "fig.update_layout(showlegend = False,geo = dict(scope = 'world'))\n",
    "fig.update_layout(margin=dict(l=20, r=20, t=50, b=20),autosize=False,width=1000,height=600)\n",
    "fig.show()"
   ]
  }
 ],
 "metadata": {
  "kernelspec": {
   "display_name": "Python 3",
   "language": "python",
   "name": "python3"
  },
  "language_info": {
   "codemirror_mode": {
    "name": "ipython",
    "version": 3
   },
   "file_extension": ".py",
   "mimetype": "text/x-python",
   "name": "python",
   "nbconvert_exporter": "python",
   "pygments_lexer": "ipython3",
   "version": "3.11.5"
  }
 },
 "nbformat": 4,
 "nbformat_minor": 2
}
